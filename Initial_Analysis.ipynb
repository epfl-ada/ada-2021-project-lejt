{
 "cells": [
  {
   "cell_type": "markdown",
   "id": "c5fb2b8d-7f69-4692-b263-2b36feb95fd9",
   "metadata": {},
   "source": [
    "### Initial cleansing and analysis\n"
   ]
  },
  {
   "cell_type": "markdown",
   "id": "d21088fb-822e-4e6b-86ba-a4063baa67fe",
   "metadata": {},
   "source": [
    "In this notebook we will take the whole Quotebank dataset and filter with a set of keywords : \"gun violence, mass shooting, firearm-related violence, firearm violence\". The actual process of filtering needed a lot of ressources so we ran it individually on the provided Google Colab after a few modifications for our purpose. We ran the data for a year each time. In this process, we added a new column to the dataframe, with the keyword found as a string in the \"Keyword\" column. Then we created a final dataframe (which is the one we will use) by filtering and concatenating only the rows with a value in this new column. \n",
    "\n",
    "In parallel, we used the gun shootings events datasets \"mass_shootings\" and \"accidents\" from \"https://www.gunviolencearchive.org/\" to create a new dataset of relevant events. We chose to keep data from 2015 to 2019 because the data for 2020 was not available. However this is not a problem because during early 2020 some other global events took over the press and forced a lockdown in the US, this may have biased our analysis during this time period."
   ]
  },
  {
   "cell_type": "markdown",
   "id": "e9ff31a3-8593-438b-9a8b-f2754f0ac5be",
   "metadata": {},
   "source": [
    "##### Filtering quotations related to gun violence\n",
    "We queried the entire quotebank dataset in search of quotes containing any of a set of key words relating to guns and gun violence. This was done in google colab to avoid having download the entire data sets onto our hard drive and to execute the code in chunks (by year) simultaneously on all our computers. We also printed a sample of the values, the shape and the number of missing values, both for the preprocessed and processed data.\n",
    "The code for the year 2019 is shown below as an example :"
   ]
  },
  {
   "cell_type": "raw",
   "id": "896ccd0c-21c4-49c1-81d0-887132069821",
   "metadata": {},
   "source": [
    "!pip install tld\n",
    "!pip install pandas==1.0.5 #have to downgrade to use on colab"
   ]
  },
  {
   "cell_type": "raw",
   "id": "4b2638a6-9add-45a1-a90c-ac42485ec7e0",
   "metadata": {},
   "source": [
    "import pandas as pd\n",
    "import bz2\n",
    "import json"
   ]
  },
  {
   "cell_type": "raw",
   "id": "4d34b90e-c72f-4f93-bce7-cc0b3d5cabd6",
   "metadata": {},
   "source": [
    "def keyword(row):\n",
    "  strings = row['quotation']\n",
    "  keywords = [\"gun violence\",\"mass shooting\",\"firearm-related violence\",\"firearm violence\"]\n",
    "  keyword = [key for key in keywords if key.upper() in strings.upper()]\n",
    "  return ','.join(keyword)"
   ]
  },
  {
   "cell_type": "raw",
   "id": "83c41cbc-990c-4795-9370-72743e3cf3a2",
   "metadata": {},
   "source": [
    "#2019 all the chunk processing together\n",
    "%load_ext google.colab.data_table\n",
    "def process_chunk(chunk, i):\n",
    "        print(f'Processing chunk with {len(chunk)} rows')\n",
    "        print(chunk.columns)\n",
    "        print(chunk.shape)\n",
    "        print(len(chunk[chunk.isna().any(axis=1)]))\n",
    "        print(chunk.sample(10))\n",
    "        selected_columns = chunk[[\"speaker\", \"qids\", \"date\", \"quotation\"]]\n",
    "        filtered_chunk= selected_columns.copy()\n",
    "        filtered_chunk['keyword'] = filtered_chunk.apply(keyword, axis=1)\n",
    "        print(len(filtered_chunk[filtered_chunk.isna().any(axis=1)]))\n",
    "        print(filtered_chunk.sample(5))\n",
    "        print(filtered_chunk.shape)\n",
    "        filtered_chunk.to_pickle(\"/content/drive/MyDrive/projectada/processed_dfs/2019/\" + str(i) +  \"chunk_with_keyword.pkl\", compression='infer', protocol=4)\n",
    "\n",
    "i = 0\n",
    "df_reader = pd.read_json('/content/drive/MyDrive/datasets_ADA/Quotebank/quotes-2019.json.bz2', lines=True, compression='bz2', chunksize=1500000)\n",
    "for chunk in df_reader:\n",
    "  i += 1\n",
    "  process_chunk(chunk, i)"
   ]
  },
  {
   "cell_type": "markdown",
   "id": "cfd6b6a4-f814-4db2-88f8-687a0aed15e6",
   "metadata": {},
   "source": [
    "The next step was to create the final dataframe by filtering out the rows which didn't contain a keyword. We also filtered out any quote with undetermined speaker (\"None\" in the data). Based on our observations of the data, it appears that quotes with no attributed speakers are in most cases unintelligible. Since our work will be based on a sentimental analysis, keeping those quotes seemed useless. This filtering was done with the following code, which we also previously ran on Google Collab:"
   ]
  },
  {
   "cell_type": "code",
   "execution_count": null,
   "id": "3d3951e8-f484-4bee-bab5-2d7f82445fa7",
   "metadata": {},
   "outputs": [],
   "source": [
    "#Copy paste lorenzo's code"
   ]
  },
  {
   "cell_type": "markdown",
   "id": "369a0ad7-a241-4121-b5e8-2cf2f2d02ed1",
   "metadata": {},
   "source": [
    "For the mass shootings dataset, we first loaded all the years from the website and merged them in a single one. \n",
    "As of now, we will keep all the data as our first wish is to see whether events actually have an effect on the amount of quotes. For further analysis, we might select a subset of the data to focus on particular events. See the code below for initial loading, concatening and analysis of the guns dataset."
   ]
  },
  {
   "cell_type": "code",
   "execution_count": 16,
   "id": "5960f7e8-180f-49ee-9d70-57ad6c22a5b2",
   "metadata": {
    "scrolled": true
   },
   "outputs": [],
   "source": [
    "import seaborn as sns\n",
    "from IPython.display import display, HTML\n",
    "import matplotlib.pyplot as plt\n",
    "import scipy.stats as stats\n",
    "import pandas as pd\n",
    "import numpy as np"
   ]
  },
  {
   "cell_type": "code",
   "execution_count": 17,
   "id": "772fe027-6b8b-491d-b87d-8fb90e915dfc",
   "metadata": {},
   "outputs": [],
   "source": [
    "DATA_FOLDER = ''\n",
    "\n",
    "MASS_SHOOTINGS_15 = DATA_FOLDER+\"massshootings15.csv\"\n",
    "MASS_SHOOTINGS_16 = DATA_FOLDER+\"massshootings16.csv\"\n",
    "MASS_SHOOTINGS_17 = DATA_FOLDER+\"massshootings17.csv\"\n",
    "MASS_SHOOTINGS_18 = DATA_FOLDER+\"massshootings18.csv\"\n",
    "MASS_SHOOTINGS_19 = DATA_FOLDER+\"massshootings19.csv\"\n",
    "ACCIDENTS = DATA_FOLDER+\"accidents.csv\""
   ]
  },
  {
   "cell_type": "code",
   "execution_count": 18,
   "id": "b552e264-53b5-4bd3-aba5-d7c5ccfa4ed2",
   "metadata": {},
   "outputs": [],
   "source": [
    "mass_shootings_15 = pd.read_csv(MASS_SHOOTINGS_15)\n",
    "mass_shootings_16 = pd.read_csv(MASS_SHOOTINGS_16)\n",
    "mass_shootings_17 = pd.read_csv(MASS_SHOOTINGS_17)\n",
    "mass_shootings_18 = pd.read_csv(MASS_SHOOTINGS_18)\n",
    "mass_shootings_19 = pd.read_csv(MASS_SHOOTINGS_19)\n",
    "accidents = pd.read_csv(ACCIDENTS)"
   ]
  },
  {
   "cell_type": "code",
   "execution_count": 19,
   "id": "6d0901b3-1ba2-4087-bc8d-f7c1150622ee",
   "metadata": {},
   "outputs": [],
   "source": [
    "mass_shootings=pd.concat([mass_shootings_15, mass_shootings_16, mass_shootings_17, mass_shootings_18,\n",
    "                          mass_shootings_19], ignore_index=True)"
   ]
  },
  {
   "cell_type": "code",
   "execution_count": 20,
   "id": "cb9fb8f6-feef-412b-87ad-6a57b26d0f4b",
   "metadata": {},
   "outputs": [],
   "source": [
    "mass_shootings = mass_shootings.drop(columns=['State', 'City Or County', 'Address', 'Operations'])\n",
    "mass_shootings['Category']='Mass Shooting'\n",
    "mass_shootings['Incident Date'] = pd.to_datetime(mass_shootings['Incident Date'])\n",
    "accidents = accidents.drop(columns=['State', 'City Or County', 'Address', 'Operations'])\n",
    "accidents = accidents[~accidents['Incident Date'].str.contains(\"2021\")]\n",
    "accidents = accidents[~accidents['Incident Date'].str.contains(\"2020\")]\n",
    "accidents['Category']='Accident'\n",
    "accidents['Incident Date'] = pd.to_datetime(accidents['Incident Date'])"
   ]
  },
  {
   "cell_type": "code",
   "execution_count": 21,
   "id": "2e553a9a-41b4-42fb-a8d3-19eeb82227ae",
   "metadata": {},
   "outputs": [
    {
     "data": {
      "text/html": [
       "<div>\n",
       "<style scoped>\n",
       "    .dataframe tbody tr th:only-of-type {\n",
       "        vertical-align: middle;\n",
       "    }\n",
       "\n",
       "    .dataframe tbody tr th {\n",
       "        vertical-align: top;\n",
       "    }\n",
       "\n",
       "    .dataframe thead th {\n",
       "        text-align: right;\n",
       "    }\n",
       "</style>\n",
       "<table border=\"1\" class=\"dataframe\">\n",
       "  <thead>\n",
       "    <tr style=\"text-align: right;\">\n",
       "      <th></th>\n",
       "      <th>Incident ID</th>\n",
       "      <th>Incident Date</th>\n",
       "      <th># Killed</th>\n",
       "      <th># Injured</th>\n",
       "      <th>Category</th>\n",
       "    </tr>\n",
       "  </thead>\n",
       "  <tbody>\n",
       "    <tr>\n",
       "      <th>788</th>\n",
       "      <td>946496</td>\n",
       "      <td>2017-10-01</td>\n",
       "      <td>59</td>\n",
       "      <td>441</td>\n",
       "      <td>Mass Shooting</td>\n",
       "    </tr>\n",
       "    <tr>\n",
       "      <th>581</th>\n",
       "      <td>577157</td>\n",
       "      <td>2016-06-12</td>\n",
       "      <td>50</td>\n",
       "      <td>53</td>\n",
       "      <td>Mass Shooting</td>\n",
       "    </tr>\n",
       "    <tr>\n",
       "      <th>754</th>\n",
       "      <td>980577</td>\n",
       "      <td>2017-11-05</td>\n",
       "      <td>27</td>\n",
       "      <td>20</td>\n",
       "      <td>Mass Shooting</td>\n",
       "    </tr>\n",
       "    <tr>\n",
       "      <th>1574</th>\n",
       "      <td>1466705</td>\n",
       "      <td>2019-08-03</td>\n",
       "      <td>23</td>\n",
       "      <td>23</td>\n",
       "      <td>Mass Shooting</td>\n",
       "    </tr>\n",
       "    <tr>\n",
       "      <th>1372</th>\n",
       "      <td>1049217</td>\n",
       "      <td>2018-02-14</td>\n",
       "      <td>17</td>\n",
       "      <td>17</td>\n",
       "      <td>Mass Shooting</td>\n",
       "    </tr>\n",
       "  </tbody>\n",
       "</table>\n",
       "</div>"
      ],
      "text/plain": [
       "      Incident ID Incident Date  # Killed  # Injured       Category\n",
       "788        946496    2017-10-01        59        441  Mass Shooting\n",
       "581        577157    2016-06-12        50         53  Mass Shooting\n",
       "754        980577    2017-11-05        27         20  Mass Shooting\n",
       "1574      1466705    2019-08-03        23         23  Mass Shooting\n",
       "1372      1049217    2018-02-14        17         17  Mass Shooting"
      ]
     },
     "execution_count": 21,
     "metadata": {},
     "output_type": "execute_result"
    }
   ],
   "source": [
    "mass_shootings.sort_values('# Killed', ascending=False).head()"
   ]
  },
  {
   "cell_type": "code",
   "execution_count": 22,
   "id": "6b7681c2-22c0-4949-8955-a823f68344d6",
   "metadata": {},
   "outputs": [
    {
     "data": {
      "text/html": [
       "<div>\n",
       "<style scoped>\n",
       "    .dataframe tbody tr th:only-of-type {\n",
       "        vertical-align: middle;\n",
       "    }\n",
       "\n",
       "    .dataframe tbody tr th {\n",
       "        vertical-align: top;\n",
       "    }\n",
       "\n",
       "    .dataframe thead th {\n",
       "        text-align: right;\n",
       "    }\n",
       "</style>\n",
       "<table border=\"1\" class=\"dataframe\">\n",
       "  <thead>\n",
       "    <tr style=\"text-align: right;\">\n",
       "      <th></th>\n",
       "      <th>Incident ID</th>\n",
       "      <th>Incident Date</th>\n",
       "      <th># Killed</th>\n",
       "      <th># Injured</th>\n",
       "      <th>Category</th>\n",
       "    </tr>\n",
       "  </thead>\n",
       "  <tbody>\n",
       "    <tr>\n",
       "      <th>1058</th>\n",
       "      <td>1564937</td>\n",
       "      <td>2019-12-05</td>\n",
       "      <td>4</td>\n",
       "      <td>1</td>\n",
       "      <td>Accident</td>\n",
       "    </tr>\n",
       "    <tr>\n",
       "      <th>1400</th>\n",
       "      <td>1323697</td>\n",
       "      <td>2019-02-09</td>\n",
       "      <td>2</td>\n",
       "      <td>0</td>\n",
       "      <td>Accident</td>\n",
       "    </tr>\n",
       "    <tr>\n",
       "      <th>1985</th>\n",
       "      <td>926038</td>\n",
       "      <td>2017-09-02</td>\n",
       "      <td>2</td>\n",
       "      <td>0</td>\n",
       "      <td>Accident</td>\n",
       "    </tr>\n",
       "    <tr>\n",
       "      <th>1825</th>\n",
       "      <td>1031159</td>\n",
       "      <td>2018-01-19</td>\n",
       "      <td>2</td>\n",
       "      <td>0</td>\n",
       "      <td>Accident</td>\n",
       "    </tr>\n",
       "    <tr>\n",
       "      <th>1445</th>\n",
       "      <td>1289271</td>\n",
       "      <td>2018-12-31</td>\n",
       "      <td>2</td>\n",
       "      <td>0</td>\n",
       "      <td>Accident</td>\n",
       "    </tr>\n",
       "  </tbody>\n",
       "</table>\n",
       "</div>"
      ],
      "text/plain": [
       "      Incident ID Incident Date  # Killed  # Injured  Category\n",
       "1058      1564937    2019-12-05         4          1  Accident\n",
       "1400      1323697    2019-02-09         2          0  Accident\n",
       "1985       926038    2017-09-02         2          0  Accident\n",
       "1825      1031159    2018-01-19         2          0  Accident\n",
       "1445      1289271    2018-12-31         2          0  Accident"
      ]
     },
     "execution_count": 22,
     "metadata": {},
     "output_type": "execute_result"
    }
   ],
   "source": [
    "accidents.sort_values('# Killed', ascending=False).head()"
   ]
  },
  {
   "cell_type": "code",
   "execution_count": 23,
   "id": "3e9621e4-8551-4527-878a-b250c7aafa99",
   "metadata": {},
   "outputs": [
    {
     "data": {
      "image/png": "[encoded data removed]",
      "text/plain": [
       "<Figure size 1440x720 with 1 Axes>"
      ]
     },
     "metadata": {
      "needs_background": "light"
     },
     "output_type": "display_data"
    }
   ],
   "source": [
    "mass_shootings.plot(x='Incident Date', y='# Killed', figsize=(20,10));"
   ]
  },
  {
   "cell_type": "code",
   "execution_count": null,
   "id": "0903ea4d-80fa-48d6-a089-a83dbc64f46d",
   "metadata": {},
   "outputs": [],
   "source": []
  }
 ],
 "metadata": {
  "kernelspec": {
   "display_name": "Python",
   "language": "python",
   "name": "python3"
  },
  "language_info": {
   "codemirror_mode": {
    "name": "ipython",
    "version": 3
   },
   "file_extension": ".py",
   "mimetype": "text/x-python",
   "name": "python",
   "nbconvert_exporter": "python",
   "pygments_lexer": "ipython3",
   "version": "3.8.10"
  }
 },
 "nbformat": 4,
 "nbformat_minor": 5
}
