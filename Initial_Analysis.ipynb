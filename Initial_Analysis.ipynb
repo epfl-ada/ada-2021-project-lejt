{
 "cells": [
  {
   "cell_type": "markdown",
   "metadata": {
    "id": "c5fb2b8d-7f69-4692-b263-2b36feb95fd9"
   },
   "source": [
    "### Initial cleansing and analysis\n"
   ]
  },
  {
   "cell_type": "markdown",
   "metadata": {
    "id": "d21088fb-822e-4e6b-86ba-a4063baa67fe"
   },
   "source": [
    "In this notebook we will take the whole Quotebank dataset and filter with a set of keywords : \"gun violence, mass shooting, firearm-related violence, firearm violence\". The actual process of filtering needed a lot of ressources so we ran it individually on the provided Google Colab after a few modifications for our purpose. We ran the data for a year each time. In this process, we added a new column to the dataframe, with the keyword found as a string in the \"Keyword\" column. Then we created a final dataframe (which is the one we will use) by filtering and concatenating only the rows with a value in this new column. \n",
    "\n",
    "In parallel, we used the gun shootings events datasets \"mass_shootings\" and \"accidents\" from \"https://www.gunviolencearchive.org/\" to create a new dataset of relevant events. We chose to keep data from 2015 to 2019 because the data for 2020 was not available. However this is not a problem because during early 2020 some other global events took over the press and forced a lockdown in the US, this may have biased our analysis during this time period."
   ]
  },
  {
   "cell_type": "markdown",
   "metadata": {
    "id": "e9ff31a3-8593-438b-9a8b-f2754f0ac5be"
   },
   "source": [
    "##### Filtering quotations related to gun violence\n",
    "We queried the entire quotebank dataset in search of quotes containing any of a set of key words relating to guns and gun violence. This was done in google colab to avoid having download the entire data sets onto our hard drive and to execute the code in chunks (by year) simultaneously on all our computers. We also printed a sample of the values, the shape and the number of missing values, both for the preprocessed and processed data.\n",
    "The code for the year 2019 is shown below as an example :"
   ]
  },
  {
   "cell_type": "code",
   "execution_count": null,
   "metadata": {
    "id": "896ccd0c-21c4-49c1-81d0-887132069821"
   },
   "outputs": [],
   "source": [
    "!pip install tld\n",
    "!pip install pandas==1.0.5 #have to downgrade to use on colab"
   ]
  },
  {
   "cell_type": "code",
   "execution_count": null,
   "metadata": {
    "id": "4b2638a6-9add-45a1-a90c-ac42485ec7e0"
   },
   "outputs": [],
   "source": [
    "import pandas as pd\n",
    "import bz2\n",
    "import json"
   ]
  },
  {
   "cell_type": "code",
   "execution_count": null,
   "metadata": {
    "id": "4d34b90e-c72f-4f93-bce7-cc0b3d5cabd6"
   },
   "outputs": [],
   "source": [
    "def keyword(row):\n",
    "  strings = row['quotation']\n",
    "  keywords = [\"gun violence\",\"mass shooting\",\"firearm-related violence\",\"firearm violence\"]\n",
    "  keyword = [key for key in keywords if key.upper() in strings.upper()]\n",
    "  return ','.join(keyword)"
   ]
  },
  {
   "cell_type": "code",
   "execution_count": null,
   "metadata": {
    "id": "f395212b-ed0f-499d-9d95-85b721430c0e"
   },
   "outputs": [],
   "source": [
    "#2019 all the chunk processing together\n",
    "%load_ext google.colab.data_table\n",
    "def process_chunk(chunk, i):\n",
    "        print(f'Processing chunk with {len(chunk)} rows')\n",
    "        print(chunk.columns)\n",
    "        print(chunk.shape)\n",
    "        print(len(chunk[chunk.isna().any(axis=1)]))\n",
    "        print(chunk.sample(10))\n",
    "        selected_columns = chunk[[\"speaker\", \"qids\", \"date\", \"quotation\"]]\n",
    "        filtered_chunk= selected_columns.copy()\n",
    "        filtered_chunk['keyword'] = filtered_chunk.apply(keyword, axis=1)\n",
    "        print(len(filtered_chunk[filtered_chunk.isna().any(axis=1)]))\n",
    "        print(filtered_chunk.sample(5))\n",
    "        print(filtered_chunk.shape)\n",
    "        filtered_chunk.to_pickle(\"/content/drive/MyDrive/projectada/processed_dfs/2019/\" + str(i) +  \"chunk_with_keyword.pkl\", compression='infer', protocol=4)\n",
    "\n",
    "i = 0\n",
    "df_reader = pd.read_json('/content/drive/MyDrive/datasets_ADA/Quotebank/quotes-2019.json.bz2', lines=True, compression='bz2', chunksize=1500000)\n",
    "for chunk in df_reader:\n",
    "  i += 1\n",
    "  process_chunk(chunk, i)"
   ]
  },
  {
   "cell_type": "markdown",
   "metadata": {
    "id": "cfd6b6a4-f814-4db2-88f8-687a0aed15e6"
   },
   "source": [
    "The next step was to create the final dataframe by filtering out the rows which didn't contain a keyword. We also filtered out any quote with undetermined speaker (\"None\" in the data). Based on our observations of the data, it appears that quotes with no attributed speakers are in most cases unintelligible. Since our work will be based on a sentimental analysis, keeping those quotes seemed useless. This filtering was done with the following code, which we also previously ran on Google Collab:"
   ]
  },
  {
   "cell_type": "code",
   "execution_count": null,
   "metadata": {
    "id": "U3fxLY9Va-cj"
   },
   "outputs": [],
   "source": [
    "from os import listdir, getcwd\n",
    "\n",
    "#also save include the rows with unkown rows\n",
    "DATA_PATH = '/content/drive/MyDrive/projectada/processed_dfs/' \n",
    "\n",
    "def process_data(path, year, list_dfs):\n",
    "  while year < 2020:\n",
    "    for file in listdir(path + str(year) + '/'):\n",
    "      small_df=pd.read_pickle(DATA_PATH + str(year) + '/' + file, compression='infer')\n",
    "      filtered_small_df = small_df.query(\"keyword == 'gun violence' | keyword == 'mass shooting' | keyword == 'firearm-related violence' | keyword == 'firearm violence'\")\n",
    "      list_dfs.append(filtered_small_df)\n",
    "    year += 1\n",
    "  return list_dfs\n",
    "\n",
    "list_dfs = []\n",
    "df = pd.concat(process_data(DATA_PATH, 2015, list_dfs), ignore_index=True)\n",
    "\n",
    "         "
   ]
  },
  {
   "cell_type": "code",
   "execution_count": 65,
   "metadata": {
    "colab": {
     "base_uri": "https://localhost:8080/"
    },
    "id": "-DUpOK5AtgXJ",
    "outputId": "76d54c6d-5940-4ed8-d1cb-cbda768b5a5c"
   },
   "outputs": [
    {
     "name": "stdout",
     "output_type": "stream",
     "text": [
      "                        speaker         qids  ...        keyword Words count\n",
      "17817             Mark Hastings  [Q27058474]  ...  mass shooting          43\n",
      "7607                Seth Meyers     [Q14536]  ...   gun violence          15\n",
      "11237             Emma González  [Q49560460]  ...   gun violence           8\n",
      "1616                       None           []  ...   gun violence           7\n",
      "26597                Kris Brown   [Q1619393]  ...   gun violence          32\n",
      "30002           Fred Guttenberg  [Q50380052]  ...   gun violence          28\n",
      "201             Hillary Clinton      [Q6294]  ...   gun violence          31\n",
      "3180               Suzanna Hupp   [Q7650729]  ...  mass shooting          12\n",
      "27385  Alexandria Ocasio-Cortez  [Q55223040]  ...  mass shooting          18\n",
      "3487            Nydia Velazquez    [Q434890]  ...   gun violence          15\n",
      "\n",
      "[10 rows x 6 columns]\n",
      "(30677, 6)\n",
      "0\n",
      "10198\n",
      "5961\n"
     ]
    }
   ],
   "source": [
    "print(df.sample(10))\n",
    "print(df.shape) #check how big is the dataframe\n",
    "print(len(df[df.isna().any(axis=1)])) # check for any missing values\n",
    "print(df['speaker'].eq('None').sum()) #count how many missing speakers in our dataframe, we see that we have about 20k assigned speakers\n",
    "print(df['speaker'].nunique()) # count how many unique speakers (counting also None)\n",
    "\n",
    "#we want to count how many words in each quotation, first we lower and remove number and symbol\n",
    "df['quotation'] = df['quotation'].apply(lambda x: x.lower())\n",
    "df['quotation'] = df['quotation'].replace('\\d+', '', regex = True)\n",
    "df['quotation'] = df['quotation'].replace('[^\\w\\s\\+]', '', regex = True)\n",
    "df['Words count'] = df['quotation'].apply(lambda x: len(str(x).split(' ')))\n",
    "\n"
   ]
  },
  {
   "cell_type": "code",
   "execution_count": 67,
   "metadata": {
    "colab": {
     "base_uri": "https://localhost:8080/",
     "height": 428
    },
    "id": "VbxHdZvh3uyg",
    "outputId": "a3aae89f-d08e-4d0b-ca4c-691a51bc3197"
   },
   "outputs": [
    {
     "name": "stdout",
     "output_type": "stream",
     "text": [
      "(5961, 2)\n"
     ]
    },
    {
     "data": {
      "text/html": [
       "<div>\n",
       "<style scoped>\n",
       "    .dataframe tbody tr th:only-of-type {\n",
       "        vertical-align: middle;\n",
       "    }\n",
       "\n",
       "    .dataframe tbody tr th {\n",
       "        vertical-align: top;\n",
       "    }\n",
       "\n",
       "    .dataframe thead th {\n",
       "        text-align: right;\n",
       "    }\n",
       "</style>\n",
       "<table border=\"1\" class=\"dataframe\">\n",
       "  <thead>\n",
       "    <tr style=\"text-align: right;\">\n",
       "      <th></th>\n",
       "      <th>speaker</th>\n",
       "      <th>Words count</th>\n",
       "    </tr>\n",
       "  </thead>\n",
       "  <tbody>\n",
       "    <tr>\n",
       "      <th>1943</th>\n",
       "      <td>Freddie Hamilton</td>\n",
       "      <td>450.0</td>\n",
       "    </tr>\n",
       "    <tr>\n",
       "      <th>3727</th>\n",
       "      <td>Maria Cantwell</td>\n",
       "      <td>429.0</td>\n",
       "    </tr>\n",
       "    <tr>\n",
       "      <th>4731</th>\n",
       "      <td>Rebecca Solnit</td>\n",
       "      <td>416.0</td>\n",
       "    </tr>\n",
       "    <tr>\n",
       "      <th>1639</th>\n",
       "      <td>Donovan Mitchell</td>\n",
       "      <td>318.0</td>\n",
       "    </tr>\n",
       "    <tr>\n",
       "      <th>3768</th>\n",
       "      <td>Mark Greene</td>\n",
       "      <td>314.0</td>\n",
       "    </tr>\n",
       "    <tr>\n",
       "      <th>...</th>\n",
       "      <td>...</td>\n",
       "      <td>...</td>\n",
       "    </tr>\n",
       "    <tr>\n",
       "      <th>308</th>\n",
       "      <td>Anthony Beale</td>\n",
       "      <td>4.0</td>\n",
       "    </tr>\n",
       "    <tr>\n",
       "      <th>5674</th>\n",
       "      <td>Tom Deininger</td>\n",
       "      <td>4.0</td>\n",
       "    </tr>\n",
       "    <tr>\n",
       "      <th>917</th>\n",
       "      <td>Chesa Boudin</td>\n",
       "      <td>4.0</td>\n",
       "    </tr>\n",
       "    <tr>\n",
       "      <th>1764</th>\n",
       "      <td>Eli Saslow</td>\n",
       "      <td>4.0</td>\n",
       "    </tr>\n",
       "    <tr>\n",
       "      <th>3707</th>\n",
       "      <td>Marcus Ellis</td>\n",
       "      <td>4.0</td>\n",
       "    </tr>\n",
       "  </tbody>\n",
       "</table>\n",
       "<p>5961 rows × 2 columns</p>\n",
       "</div>"
      ],
      "text/plain": [
       "               speaker  Words count\n",
       "1943  Freddie Hamilton        450.0\n",
       "3727    Maria Cantwell        429.0\n",
       "4731    Rebecca Solnit        416.0\n",
       "1639  Donovan Mitchell        318.0\n",
       "3768       Mark Greene        314.0\n",
       "...                ...          ...\n",
       "308      Anthony Beale          4.0\n",
       "5674     Tom Deininger          4.0\n",
       "917       Chesa Boudin          4.0\n",
       "1764        Eli Saslow          4.0\n",
       "3707      Marcus Ellis          4.0\n",
       "\n",
       "[5961 rows x 2 columns]"
      ]
     },
     "execution_count": 67,
     "metadata": {},
     "output_type": "execute_result"
    }
   ],
   "source": [
    "avg_word_counts_par_speaker = df.groupby(['speaker'])[['Words count']].mean().reset_index()\n",
    "print(avg_word_counts_par_speaker.shape)\n",
    "avg_word_counts_par_speaker = avg_word_counts_par_speaker.sort_values('Words count', ascending=False)\n",
    "avg_word_counts_par_speaker\n",
    "# we see that we have some speaker with very high avg word counts, let's dig deeper"
   ]
  },
  {
   "cell_type": "code",
   "execution_count": 104,
   "metadata": {
    "colab": {
     "base_uri": "https://localhost:8080/",
     "height": 434
    },
    "id": "cwSz5ErdGJuc",
    "outputId": "fcfd4152-8396-4b97-fc47-fe14dbb9bdc1"
   },
   "outputs": [
    {
     "name": "stdout",
     "output_type": "stream",
     "text": [
      "speaker        12\n",
      "Words count    12\n",
      "dtype: int64\n",
      "speaker        0\n",
      "Words count    0\n",
      "dtype: int64\n",
      "speaker        0\n",
      "Words count    0\n",
      "dtype: int64\n",
      "speaker        13\n",
      "Words count    13\n",
      "dtype: int64\n"
     ]
    },
    {
     "data": {
      "image/png": "[encoded data removed]",
      "text/plain": [
       "<Figure size 2160x720 with 1 Axes>"
      ]
     },
     "metadata": {
      "needs_background": "light"
     },
     "output_type": "display_data"
    }
   ],
   "source": [
    "ax = avg_word_counts_par_speaker['Words count'].hist(log=True, bins=60, figsize=[30,10]);\n",
    "ax.set_ylabel(\"Number of occurences\");\n",
    "ax.set_xlabel(\"Word count\");\n",
    "ax.set_title(\"Distribution of the average number of words per quotation for each speaker\")\n",
    "\n",
    "print(avg_word_counts_par_speaker[avg_word_counts_par_speaker['Words count'] > 250].count())\n",
    "print(avg_word_counts_par_speaker[avg_word_counts_par_speaker['Words count'] < 3].count())\n",
    "print(avg_word_counts_par_speaker[avg_word_counts_par_speaker['Words count'] < 4].count())\n",
    "print(avg_word_counts_par_speaker[avg_word_counts_par_speaker['Words count'] < 5].count())\n",
    "#we observe that few speakers have higher than 250 words on average par quotation, specifically 12 and below 3 and 4 words no instances"
   ]
  },
  {
   "cell_type": "markdown",
   "metadata": {},
   "source": [
    "We can see that most speakers have a low word counts, but a few of them have a very large number of words. We also obserev that there are no speakers with less than 4 words, which is good because we are looking for phrases and not random words.  "
   ]
  },
  {
   "cell_type": "code",
   "execution_count": 84,
   "metadata": {
    "colab": {
     "base_uri": "https://localhost:8080/",
     "height": 428
    },
    "id": "1BV39MnR7CUg",
    "outputId": "3fd26212-05e0-4791-a315-a96927557f6c"
   },
   "outputs": [
    {
     "name": "stdout",
     "output_type": "stream",
     "text": [
      "(5961, 2)\n"
     ]
    },
    {
     "data": {
      "text/html": [
       "<div>\n",
       "<style scoped>\n",
       "    .dataframe tbody tr th:only-of-type {\n",
       "        vertical-align: middle;\n",
       "    }\n",
       "\n",
       "    .dataframe tbody tr th {\n",
       "        vertical-align: top;\n",
       "    }\n",
       "\n",
       "    .dataframe thead th {\n",
       "        text-align: right;\n",
       "    }\n",
       "</style>\n",
       "<table border=\"1\" class=\"dataframe\">\n",
       "  <thead>\n",
       "    <tr style=\"text-align: right;\">\n",
       "      <th></th>\n",
       "      <th>speaker</th>\n",
       "      <th>Words count</th>\n",
       "    </tr>\n",
       "  </thead>\n",
       "  <tbody>\n",
       "    <tr>\n",
       "      <th>4367</th>\n",
       "      <td>None</td>\n",
       "      <td>330334</td>\n",
       "    </tr>\n",
       "    <tr>\n",
       "      <th>4628</th>\n",
       "      <td>President Barack Obama</td>\n",
       "      <td>11475</td>\n",
       "    </tr>\n",
       "    <tr>\n",
       "      <th>4281</th>\n",
       "      <td>Nancy Pelosi</td>\n",
       "      <td>9548</td>\n",
       "    </tr>\n",
       "    <tr>\n",
       "      <th>4636</th>\n",
       "      <td>President Obama</td>\n",
       "      <td>9367</td>\n",
       "    </tr>\n",
       "    <tr>\n",
       "      <th>2209</th>\n",
       "      <td>Hillary Clinton</td>\n",
       "      <td>8348</td>\n",
       "    </tr>\n",
       "    <tr>\n",
       "      <th>...</th>\n",
       "      <td>...</td>\n",
       "      <td>...</td>\n",
       "    </tr>\n",
       "    <tr>\n",
       "      <th>5488</th>\n",
       "      <td>Susana Martinez</td>\n",
       "      <td>4</td>\n",
       "    </tr>\n",
       "    <tr>\n",
       "      <th>655</th>\n",
       "      <td>Brian Dugan</td>\n",
       "      <td>4</td>\n",
       "    </tr>\n",
       "    <tr>\n",
       "      <th>1966</th>\n",
       "      <td>Garret Graves</td>\n",
       "      <td>4</td>\n",
       "    </tr>\n",
       "    <tr>\n",
       "      <th>5674</th>\n",
       "      <td>Tom Deininger</td>\n",
       "      <td>4</td>\n",
       "    </tr>\n",
       "    <tr>\n",
       "      <th>570</th>\n",
       "      <td>Bob Duff</td>\n",
       "      <td>4</td>\n",
       "    </tr>\n",
       "  </tbody>\n",
       "</table>\n",
       "<p>5961 rows × 2 columns</p>\n",
       "</div>"
      ],
      "text/plain": [
       "                     speaker  Words count\n",
       "4367                    None       330334\n",
       "4628  President Barack Obama        11475\n",
       "4281            Nancy Pelosi         9548\n",
       "4636         President Obama         9367\n",
       "2209         Hillary Clinton         8348\n",
       "...                      ...          ...\n",
       "5488         Susana Martinez            4\n",
       "655              Brian Dugan            4\n",
       "1966           Garret Graves            4\n",
       "5674           Tom Deininger            4\n",
       "570                 Bob Duff            4\n",
       "\n",
       "[5961 rows x 2 columns]"
      ]
     },
     "execution_count": 84,
     "metadata": {},
     "output_type": "execute_result"
    }
   ],
   "source": [
    "total_sum_word_counts_par_speaker = df.groupby(['speaker'])[['Words count']].sum().reset_index()\n",
    "print(total_sum_word_counts_par_speaker.shape)\n",
    "total_sum_word_counts_par_speaker = total_sum_word_counts_par_speaker.sort_values('Words count', ascending=False)\n",
    "total_sum_word_counts_par_speaker\n",
    "#"
   ]
  },
  {
   "cell_type": "markdown",
   "metadata": {},
   "source": [
    "Note: \n",
    "We observe that some speakers may be present multiple times under slightly different name, for example \"President Barack Obama\" or \"President Obama\". This issue does not need to be treated here, since if and when we will study individual relevant speakers, we will only search part of their name, in this case \"Obama\" will suffice to detect any case of quotations from him. "
   ]
  },
  {
   "cell_type": "code",
   "execution_count": 108,
   "metadata": {
    "colab": {
     "base_uri": "https://localhost:8080/",
     "height": 236
    },
    "id": "l6Z1cInX9cti",
    "outputId": "b805395c-8c7c-4dd3-c9d9-f8a222719dff"
   },
   "outputs": [
    {
     "data": {
      "image/png": "[encoded data removed]",
      "text/plain": [
       "<Figure size 2160x720 with 1 Axes>"
      ]
     },
     "metadata": {
      "needs_background": "light"
     },
     "output_type": "display_data"
    }
   ],
   "source": [
    "ax = total_sum_word_counts_par_speaker['Words count'].hist(log=True, bins=60, figsize=[30,10]);\n",
    "ax.set_ylabel(\"Number of occurences\");\n",
    "ax.set_xlabel(\"Word count\");\n",
    "ax.set_title(\"Distribution of the total number of words per quotation for each speaker\");"
   ]
  },
  {
   "cell_type": "markdown",
   "metadata": {},
   "source": [
    "We observe in this graph that the unknown speakers make up for most of the total count of words, which is another argument of why we chose to remove them, because if those quotations are misleading it would totally ruin our analysis."
   ]
  },
  {
   "cell_type": "code",
   "execution_count": 101,
   "metadata": {
    "colab": {
     "base_uri": "https://localhost:8080/",
     "height": 458
    },
    "id": "oGZ7rM6d7vlW",
    "outputId": "670eef3d-8201-421e-e9f2-5c449b99b449"
   },
   "outputs": [
    {
     "data": {
      "text/html": [
       "<div>\n",
       "<style scoped>\n",
       "    .dataframe tbody tr th:only-of-type {\n",
       "        vertical-align: middle;\n",
       "    }\n",
       "\n",
       "    .dataframe tbody tr th {\n",
       "        vertical-align: top;\n",
       "    }\n",
       "\n",
       "    .dataframe thead tr th {\n",
       "        text-align: left;\n",
       "    }\n",
       "</style>\n",
       "<table border=\"1\" class=\"dataframe\">\n",
       "  <thead>\n",
       "    <tr>\n",
       "      <th></th>\n",
       "      <th>speaker</th>\n",
       "      <th colspan=\"8\" halign=\"left\">Words count</th>\n",
       "    </tr>\n",
       "    <tr>\n",
       "      <th></th>\n",
       "      <th></th>\n",
       "      <th>count</th>\n",
       "      <th>mean</th>\n",
       "      <th>std</th>\n",
       "      <th>min</th>\n",
       "      <th>25%</th>\n",
       "      <th>50%</th>\n",
       "      <th>75%</th>\n",
       "      <th>max</th>\n",
       "    </tr>\n",
       "  </thead>\n",
       "  <tbody>\n",
       "    <tr>\n",
       "      <th>0</th>\n",
       "      <td>21 Savage</td>\n",
       "      <td>1.0</td>\n",
       "      <td>22.000000</td>\n",
       "      <td>NaN</td>\n",
       "      <td>22.0</td>\n",
       "      <td>22.00</td>\n",
       "      <td>22.0</td>\n",
       "      <td>22.00</td>\n",
       "      <td>22.0</td>\n",
       "    </tr>\n",
       "    <tr>\n",
       "      <th>1</th>\n",
       "      <td>A. Clark</td>\n",
       "      <td>6.0</td>\n",
       "      <td>35.833333</td>\n",
       "      <td>19.030677</td>\n",
       "      <td>8.0</td>\n",
       "      <td>28.25</td>\n",
       "      <td>32.5</td>\n",
       "      <td>48.75</td>\n",
       "      <td>61.0</td>\n",
       "    </tr>\n",
       "    <tr>\n",
       "      <th>2</th>\n",
       "      <td>A. Harris</td>\n",
       "      <td>1.0</td>\n",
       "      <td>34.000000</td>\n",
       "      <td>NaN</td>\n",
       "      <td>34.0</td>\n",
       "      <td>34.00</td>\n",
       "      <td>34.0</td>\n",
       "      <td>34.00</td>\n",
       "      <td>34.0</td>\n",
       "    </tr>\n",
       "    <tr>\n",
       "      <th>3</th>\n",
       "      <td>A. King</td>\n",
       "      <td>1.0</td>\n",
       "      <td>71.000000</td>\n",
       "      <td>NaN</td>\n",
       "      <td>71.0</td>\n",
       "      <td>71.00</td>\n",
       "      <td>71.0</td>\n",
       "      <td>71.00</td>\n",
       "      <td>71.0</td>\n",
       "    </tr>\n",
       "    <tr>\n",
       "      <th>4</th>\n",
       "      <td>AJ Perez</td>\n",
       "      <td>1.0</td>\n",
       "      <td>19.000000</td>\n",
       "      <td>NaN</td>\n",
       "      <td>19.0</td>\n",
       "      <td>19.00</td>\n",
       "      <td>19.0</td>\n",
       "      <td>19.00</td>\n",
       "      <td>19.0</td>\n",
       "    </tr>\n",
       "    <tr>\n",
       "      <th>...</th>\n",
       "      <td>...</td>\n",
       "      <td>...</td>\n",
       "      <td>...</td>\n",
       "      <td>...</td>\n",
       "      <td>...</td>\n",
       "      <td>...</td>\n",
       "      <td>...</td>\n",
       "      <td>...</td>\n",
       "      <td>...</td>\n",
       "    </tr>\n",
       "    <tr>\n",
       "      <th>5956</th>\n",
       "      <td>president Barack Obama</td>\n",
       "      <td>10.0</td>\n",
       "      <td>32.000000</td>\n",
       "      <td>9.955456</td>\n",
       "      <td>15.0</td>\n",
       "      <td>23.75</td>\n",
       "      <td>34.5</td>\n",
       "      <td>40.00</td>\n",
       "      <td>43.0</td>\n",
       "    </tr>\n",
       "    <tr>\n",
       "      <th>5957</th>\n",
       "      <td>ron Smith</td>\n",
       "      <td>1.0</td>\n",
       "      <td>7.000000</td>\n",
       "      <td>NaN</td>\n",
       "      <td>7.0</td>\n",
       "      <td>7.00</td>\n",
       "      <td>7.0</td>\n",
       "      <td>7.00</td>\n",
       "      <td>7.0</td>\n",
       "    </tr>\n",
       "    <tr>\n",
       "      <th>5958</th>\n",
       "      <td>stacey newman</td>\n",
       "      <td>1.0</td>\n",
       "      <td>27.000000</td>\n",
       "      <td>NaN</td>\n",
       "      <td>27.0</td>\n",
       "      <td>27.00</td>\n",
       "      <td>27.0</td>\n",
       "      <td>27.00</td>\n",
       "      <td>27.0</td>\n",
       "    </tr>\n",
       "    <tr>\n",
       "      <th>5959</th>\n",
       "      <td>tim kaine</td>\n",
       "      <td>1.0</td>\n",
       "      <td>36.000000</td>\n",
       "      <td>NaN</td>\n",
       "      <td>36.0</td>\n",
       "      <td>36.00</td>\n",
       "      <td>36.0</td>\n",
       "      <td>36.00</td>\n",
       "      <td>36.0</td>\n",
       "    </tr>\n",
       "    <tr>\n",
       "      <th>5960</th>\n",
       "      <td>you long</td>\n",
       "      <td>1.0</td>\n",
       "      <td>9.000000</td>\n",
       "      <td>NaN</td>\n",
       "      <td>9.0</td>\n",
       "      <td>9.00</td>\n",
       "      <td>9.0</td>\n",
       "      <td>9.00</td>\n",
       "      <td>9.0</td>\n",
       "    </tr>\n",
       "  </tbody>\n",
       "</table>\n",
       "<p>5961 rows × 9 columns</p>\n",
       "</div>"
      ],
      "text/plain": [
       "                     speaker Words count             ...                   \n",
       "                                   count       mean  ...   50%    75%   max\n",
       "0                  21 Savage         1.0  22.000000  ...  22.0  22.00  22.0\n",
       "1                   A. Clark         6.0  35.833333  ...  32.5  48.75  61.0\n",
       "2                  A. Harris         1.0  34.000000  ...  34.0  34.00  34.0\n",
       "3                    A. King         1.0  71.000000  ...  71.0  71.00  71.0\n",
       "4                   AJ Perez         1.0  19.000000  ...  19.0  19.00  19.0\n",
       "...                      ...         ...        ...  ...   ...    ...   ...\n",
       "5956  president Barack Obama        10.0  32.000000  ...  34.5  40.00  43.0\n",
       "5957               ron Smith         1.0   7.000000  ...   7.0   7.00   7.0\n",
       "5958           stacey newman         1.0  27.000000  ...  27.0  27.00  27.0\n",
       "5959               tim kaine         1.0  36.000000  ...  36.0  36.00  36.0\n",
       "5960                you long         1.0   9.000000  ...   9.0   9.00   9.0\n",
       "\n",
       "[5961 rows x 9 columns]"
      ]
     },
     "execution_count": 101,
     "metadata": {},
     "output_type": "execute_result"
    }
   ],
   "source": [
    "desc = df.groupby(['speaker'])[['Words count']].describe().reset_index()\n",
    "desc"
   ]
  },
  {
   "cell_type": "code",
   "execution_count": 106,
   "metadata": {
    "id": "cMDv4vTGuqdn"
   },
   "outputs": [],
   "source": [
    "DATA_PATH = '/content/drive/MyDrive/projectada/processed_dfs/' \n",
    "#do the same but removing all the rows with unkown speakers\n",
    "def process_data(path, year, list_dfs):\n",
    "  while year < 2020:\n",
    "    for file in listdir(path + str(year) + '/'):\n",
    "      small_df=pd.read_pickle(DATA_PATH + str(year) + '/' + file, compression='infer')\n",
    "      filtered_small_df = small_df.query(\"(keyword == 'gun violence' | keyword == 'mass shooting' | keyword == 'firearm-related violence' | keyword == 'firearm violence') & speaker != 'None'\")\n",
    "      list_dfs.append(filtered_small_df)\n",
    "    year += 1\n",
    "  return list_dfs\n",
    "\n",
    "list_dfs = []\n",
    "data = pd.concat(process_data(DATA_PATH, 2015, list_dfs), ignore_index=True)"
   ]
  },
  {
   "cell_type": "code",
   "execution_count": 107,
   "metadata": {
    "colab": {
     "base_uri": "https://localhost:8080/"
    },
    "id": "xPZOAj2lU2Tw",
    "outputId": "84607a5f-be4b-4823-c186-6511c0118b3e"
   },
   "outputs": [
    {
     "name": "stdout",
     "output_type": "stream",
     "text": [
      "                      speaker  ...        keyword\n",
      "12920               Bob Krist  ...   gun violence\n",
      "7794       Gabrielle Giffords  ...   gun violence\n",
      "14184          Julie Morrison  ...  mass shooting\n",
      "19785              Eric Adams  ...   gun violence\n",
      "15650             Chris Evans  ...   gun violence\n",
      "15499            Sam Liccardo  ...   gun violence\n",
      "1315           Marlon Kimpson  ...   gun violence\n",
      "11346  Michelle Lujan Grisham  ...   gun violence\n",
      "1980               Chuck Todd  ...   gun violence\n",
      "13545              Ken Burton  ...   gun violence\n",
      "\n",
      "[10 rows x 5 columns]\n",
      "(20479, 5)\n",
      "0\n",
      "0\n",
      "5960\n"
     ]
    }
   ],
   "source": [
    "print(data.sample(10))\n",
    "print(data.shape) #check how big is the dataframe\n",
    "print(len(data[data.isna().any(axis=1)])) # check for any missing values\n",
    "print(data['speaker'].eq('None').sum()) #count how many missing speakers in our dataframe, we see that we have about 20k assigned speakers\n",
    "print(data['speaker'].nunique()) # count how many unique speakers\n",
    "\n",
    "#we want to count how many words in each quotation, first we lower and remove number and symbol\n",
    "data['quotation'] = data['quotation'].apply(lambda x: x.lower())\n",
    "data['quotation'] = data['quotation'].replace('\\d+', '', regex = True)\n",
    "data['quotation'] = data['quotation'].replace('[^\\w\\s\\+]', '', regex = True)\n",
    "data['Words count'] = data['quotation'].apply(lambda x: len(str(x).split(' ')))\n",
    "\n"
   ]
  },
  {
   "cell_type": "code",
   "execution_count": 109,
   "metadata": {
    "colab": {
     "base_uri": "https://localhost:8080/",
     "height": 428
    },
    "id": "VKa2mcVYU2Tz",
    "outputId": "a7fd3917-0d8b-4fe5-aef4-7f9aea56c8bc"
   },
   "outputs": [
    {
     "name": "stdout",
     "output_type": "stream",
     "text": [
      "(5960, 2)\n"
     ]
    },
    {
     "data": {
      "text/html": [
       "<div>\n",
       "<style scoped>\n",
       "    .dataframe tbody tr th:only-of-type {\n",
       "        vertical-align: middle;\n",
       "    }\n",
       "\n",
       "    .dataframe tbody tr th {\n",
       "        vertical-align: top;\n",
       "    }\n",
       "\n",
       "    .dataframe thead th {\n",
       "        text-align: right;\n",
       "    }\n",
       "</style>\n",
       "<table border=\"1\" class=\"dataframe\">\n",
       "  <thead>\n",
       "    <tr style=\"text-align: right;\">\n",
       "      <th></th>\n",
       "      <th>speaker</th>\n",
       "      <th>Words count</th>\n",
       "    </tr>\n",
       "  </thead>\n",
       "  <tbody>\n",
       "    <tr>\n",
       "      <th>1943</th>\n",
       "      <td>Freddie Hamilton</td>\n",
       "      <td>450.0</td>\n",
       "    </tr>\n",
       "    <tr>\n",
       "      <th>3727</th>\n",
       "      <td>Maria Cantwell</td>\n",
       "      <td>429.0</td>\n",
       "    </tr>\n",
       "    <tr>\n",
       "      <th>4730</th>\n",
       "      <td>Rebecca Solnit</td>\n",
       "      <td>416.0</td>\n",
       "    </tr>\n",
       "    <tr>\n",
       "      <th>1639</th>\n",
       "      <td>Donovan Mitchell</td>\n",
       "      <td>318.0</td>\n",
       "    </tr>\n",
       "    <tr>\n",
       "      <th>3768</th>\n",
       "      <td>Mark Greene</td>\n",
       "      <td>314.0</td>\n",
       "    </tr>\n",
       "    <tr>\n",
       "      <th>...</th>\n",
       "      <td>...</td>\n",
       "      <td>...</td>\n",
       "    </tr>\n",
       "    <tr>\n",
       "      <th>308</th>\n",
       "      <td>Anthony Beale</td>\n",
       "      <td>4.0</td>\n",
       "    </tr>\n",
       "    <tr>\n",
       "      <th>5673</th>\n",
       "      <td>Tom Deininger</td>\n",
       "      <td>4.0</td>\n",
       "    </tr>\n",
       "    <tr>\n",
       "      <th>917</th>\n",
       "      <td>Chesa Boudin</td>\n",
       "      <td>4.0</td>\n",
       "    </tr>\n",
       "    <tr>\n",
       "      <th>1764</th>\n",
       "      <td>Eli Saslow</td>\n",
       "      <td>4.0</td>\n",
       "    </tr>\n",
       "    <tr>\n",
       "      <th>3707</th>\n",
       "      <td>Marcus Ellis</td>\n",
       "      <td>4.0</td>\n",
       "    </tr>\n",
       "  </tbody>\n",
       "</table>\n",
       "<p>5960 rows × 2 columns</p>\n",
       "</div>"
      ],
      "text/plain": [
       "               speaker  Words count\n",
       "1943  Freddie Hamilton        450.0\n",
       "3727    Maria Cantwell        429.0\n",
       "4730    Rebecca Solnit        416.0\n",
       "1639  Donovan Mitchell        318.0\n",
       "3768       Mark Greene        314.0\n",
       "...                ...          ...\n",
       "308      Anthony Beale          4.0\n",
       "5673     Tom Deininger          4.0\n",
       "917       Chesa Boudin          4.0\n",
       "1764        Eli Saslow          4.0\n",
       "3707      Marcus Ellis          4.0\n",
       "\n",
       "[5960 rows x 2 columns]"
      ]
     },
     "execution_count": 109,
     "metadata": {},
     "output_type": "execute_result"
    }
   ],
   "source": [
    "avg_word_counts_par_speaker = data.groupby(['speaker'])[['Words count']].mean().reset_index()\n",
    "print(avg_word_counts_par_speaker.shape)\n",
    "avg_word_counts_par_speaker = avg_word_counts_par_speaker.sort_values('Words count', ascending=False)\n",
    "avg_word_counts_par_speaker"
   ]
  },
  {
   "cell_type": "code",
   "execution_count": 110,
   "metadata": {
    "colab": {
     "base_uri": "https://localhost:8080/",
     "height": 434
    },
    "id": "EGKn5QUPU2T0",
    "outputId": "f15d312a-c907-4862-be1e-d3f78b25b0bb"
   },
   "outputs": [
    {
     "name": "stdout",
     "output_type": "stream",
     "text": [
      "speaker        12\n",
      "Words count    12\n",
      "dtype: int64\n",
      "speaker        0\n",
      "Words count    0\n",
      "dtype: int64\n",
      "speaker        0\n",
      "Words count    0\n",
      "dtype: int64\n",
      "speaker        13\n",
      "Words count    13\n",
      "dtype: int64\n"
     ]
    },
    {
     "data": {
      "image/png": "[encoded data removed]",
      "text/plain": [
       "<Figure size 2160x720 with 1 Axes>"
      ]
     },
     "metadata": {
      "needs_background": "light"
     },
     "output_type": "display_data"
    }
   ],
   "source": [
    "ax = avg_word_counts_par_speaker['Words count'].hist(log=True, bins=60, figsize=[30,10]);\n",
    "ax.set_ylabel(\"Number of occurences\");\n",
    "ax.set_xlabel(\"Word count\");\n",
    "ax.set_title(\"Distribution of the average number of words per quotation for each speaker\");\n",
    "\n",
    "print(avg_word_counts_par_speaker[avg_word_counts_par_speaker['Words count'] > 250].count())\n",
    "print(avg_word_counts_par_speaker[avg_word_counts_par_speaker['Words count'] < 3].count())\n",
    "print(avg_word_counts_par_speaker[avg_word_counts_par_speaker['Words count'] < 4].count())\n",
    "print(avg_word_counts_par_speaker[avg_word_counts_par_speaker['Words count'] < 5].count())\n",
    "#we observe that few speakers have higher than 250 words on average par quotation, specifically 12 and below 3 and 4 words no instances"
   ]
  },
  {
   "cell_type": "code",
   "execution_count": 111,
   "metadata": {
    "colab": {
     "base_uri": "https://localhost:8080/",
     "height": 428
    },
    "id": "c-K_fibhU2T0",
    "outputId": "adeabb81-ccf6-4b83-e7a5-fe359a017df6"
   },
   "outputs": [
    {
     "name": "stdout",
     "output_type": "stream",
     "text": [
      "(5960, 2)\n"
     ]
    },
    {
     "data": {
      "text/html": [
       "<div>\n",
       "<style scoped>\n",
       "    .dataframe tbody tr th:only-of-type {\n",
       "        vertical-align: middle;\n",
       "    }\n",
       "\n",
       "    .dataframe tbody tr th {\n",
       "        vertical-align: top;\n",
       "    }\n",
       "\n",
       "    .dataframe thead th {\n",
       "        text-align: right;\n",
       "    }\n",
       "</style>\n",
       "<table border=\"1\" class=\"dataframe\">\n",
       "  <thead>\n",
       "    <tr style=\"text-align: right;\">\n",
       "      <th></th>\n",
       "      <th>speaker</th>\n",
       "      <th>Words count</th>\n",
       "    </tr>\n",
       "  </thead>\n",
       "  <tbody>\n",
       "    <tr>\n",
       "      <th>4627</th>\n",
       "      <td>President Barack Obama</td>\n",
       "      <td>11475</td>\n",
       "    </tr>\n",
       "    <tr>\n",
       "      <th>4281</th>\n",
       "      <td>Nancy Pelosi</td>\n",
       "      <td>9548</td>\n",
       "    </tr>\n",
       "    <tr>\n",
       "      <th>4635</th>\n",
       "      <td>President Obama</td>\n",
       "      <td>9367</td>\n",
       "    </tr>\n",
       "    <tr>\n",
       "      <th>2209</th>\n",
       "      <td>Hillary Clinton</td>\n",
       "      <td>8348</td>\n",
       "    </tr>\n",
       "    <tr>\n",
       "      <th>970</th>\n",
       "      <td>Chris Murphy</td>\n",
       "      <td>6820</td>\n",
       "    </tr>\n",
       "    <tr>\n",
       "      <th>...</th>\n",
       "      <td>...</td>\n",
       "      <td>...</td>\n",
       "    </tr>\n",
       "    <tr>\n",
       "      <th>5487</th>\n",
       "      <td>Susana Martinez</td>\n",
       "      <td>4</td>\n",
       "    </tr>\n",
       "    <tr>\n",
       "      <th>655</th>\n",
       "      <td>Brian Dugan</td>\n",
       "      <td>4</td>\n",
       "    </tr>\n",
       "    <tr>\n",
       "      <th>1966</th>\n",
       "      <td>Garret Graves</td>\n",
       "      <td>4</td>\n",
       "    </tr>\n",
       "    <tr>\n",
       "      <th>5673</th>\n",
       "      <td>Tom Deininger</td>\n",
       "      <td>4</td>\n",
       "    </tr>\n",
       "    <tr>\n",
       "      <th>570</th>\n",
       "      <td>Bob Duff</td>\n",
       "      <td>4</td>\n",
       "    </tr>\n",
       "  </tbody>\n",
       "</table>\n",
       "<p>5960 rows × 2 columns</p>\n",
       "</div>"
      ],
      "text/plain": [
       "                     speaker  Words count\n",
       "4627  President Barack Obama        11475\n",
       "4281            Nancy Pelosi         9548\n",
       "4635         President Obama         9367\n",
       "2209         Hillary Clinton         8348\n",
       "970             Chris Murphy         6820\n",
       "...                      ...          ...\n",
       "5487         Susana Martinez            4\n",
       "655              Brian Dugan            4\n",
       "1966           Garret Graves            4\n",
       "5673           Tom Deininger            4\n",
       "570                 Bob Duff            4\n",
       "\n",
       "[5960 rows x 2 columns]"
      ]
     },
     "execution_count": 111,
     "metadata": {},
     "output_type": "execute_result"
    }
   ],
   "source": [
    "total_sum_word_counts_par_speaker = data.groupby(['speaker'])[['Words count']].sum().reset_index()\n",
    "print(total_sum_word_counts_par_speaker.shape)\n",
    "total_sum_word_counts_par_speaker = total_sum_word_counts_par_speaker.sort_values('Words count', ascending=False)\n",
    "total_sum_word_counts_par_speaker\n",
    "#"
   ]
  },
  {
   "cell_type": "code",
   "execution_count": 112,
   "metadata": {
    "colab": {
     "base_uri": "https://localhost:8080/",
     "height": 235
    },
    "id": "88H66RYFU2T0",
    "outputId": "9badd118-968c-4bc2-9e81-adea1989748f"
   },
   "outputs": [
    {
     "data": {
      "image/png": "[encoded data removed]",
      "text/plain": [
       "<Figure size 2160x720 with 1 Axes>"
      ]
     },
     "metadata": {
      "needs_background": "light"
     },
     "output_type": "display_data"
    }
   ],
   "source": [
    "ax = total_sum_word_counts_par_speaker['Words count'].hist(log=True, bins=60, figsize=[30,10]);\n",
    "ax.set_ylabel(\"Number of occurences\");\n",
    "ax.set_xlabel(\"Word count\");\n",
    "ax.set_title(\"Distribution of the total number of words per quotation for each speaker\");"
   ]
  },
  {
   "cell_type": "code",
   "execution_count": null,
   "metadata": {
    "id": "7z20snZbuaL6"
   },
   "outputs": [],
   "source": [
    "#save into pickles in particular files\n",
    "df.to_pickle(\"/content/drive/MyDrive/projectada/processed_dfs/2020/\" + str(i) + \"chunk_with_keyword.pkl\", compression='infer', protocol=4)"
   ]
  },
  {
   "cell_type": "markdown",
   "metadata": {
    "id": "lbgIdI5sEJV8"
   },
   "source": [
    "In the end from the original 336 instances, about 90 are without speakers."
   ]
  },
  {
   "cell_type": "markdown",
   "metadata": {
    "id": "369a0ad7-a241-4121-b5e8-2cf2f2d02ed1"
   },
   "source": [
    "For the mass shootings dataset, we first loaded all the years from the website and merged them in a single one. \n",
    "As of now, we will keep all the data as our first wish is to see whether events actually have an effect on the amount of quotes. For further analysis, we might select a subset of the data to focus on particular events. See the code below for initial loading, concatening and analysis of the guns dataset."
   ]
  },
  {
   "cell_type": "code",
   "execution_count": null,
   "metadata": {
    "id": "5960f7e8-180f-49ee-9d70-57ad6c22a5b2",
    "scrolled": true
   },
   "outputs": [],
   "source": [
    "import seaborn as sns\n",
    "from IPython.display import display, HTML\n",
    "import matplotlib.pyplot as plt\n",
    "import scipy.stats as stats\n",
    "import pandas as pd\n",
    "import numpy as np"
   ]
  },
  {
   "cell_type": "code",
   "execution_count": null,
   "metadata": {
    "id": "772fe027-6b8b-491d-b87d-8fb90e915dfc"
   },
   "outputs": [],
   "source": [
    "DATA_FOLDER = ''\n",
    "\n",
    "MASS_SHOOTINGS_15 = DATA_FOLDER+\"massshootings15.csv\"\n",
    "MASS_SHOOTINGS_16 = DATA_FOLDER+\"massshootings16.csv\"\n",
    "MASS_SHOOTINGS_17 = DATA_FOLDER+\"massshootings17.csv\"\n",
    "MASS_SHOOTINGS_18 = DATA_FOLDER+\"massshootings18.csv\"\n",
    "MASS_SHOOTINGS_19 = DATA_FOLDER+\"massshootings19.csv\"\n",
    "ACCIDENTS = DATA_FOLDER+\"accidents.csv\""
   ]
  },
  {
   "cell_type": "code",
   "execution_count": null,
   "metadata": {
    "id": "b552e264-53b5-4bd3-aba5-d7c5ccfa4ed2"
   },
   "outputs": [],
   "source": [
    "mass_shootings_15 = pd.read_csv(MASS_SHOOTINGS_15)\n",
    "mass_shootings_16 = pd.read_csv(MASS_SHOOTINGS_16)\n",
    "mass_shootings_17 = pd.read_csv(MASS_SHOOTINGS_17)\n",
    "mass_shootings_18 = pd.read_csv(MASS_SHOOTINGS_18)\n",
    "mass_shootings_19 = pd.read_csv(MASS_SHOOTINGS_19)\n",
    "accidents = pd.read_csv(ACCIDENTS)"
   ]
  },
  {
   "cell_type": "code",
   "execution_count": null,
   "metadata": {
    "id": "6d0901b3-1ba2-4087-bc8d-f7c1150622ee"
   },
   "outputs": [],
   "source": [
    "mass_shootings=pd.concat([mass_shootings_15, mass_shootings_16, mass_shootings_17, mass_shootings_18,\n",
    "                          mass_shootings_19], ignore_index=True)"
   ]
  },
  {
   "cell_type": "code",
   "execution_count": null,
   "metadata": {
    "id": "cb9fb8f6-feef-412b-87ad-6a57b26d0f4b"
   },
   "outputs": [],
   "source": [
    "mass_shootings = mass_shootings.drop(columns=['State', 'City Or County', 'Address', 'Operations'])\n",
    "mass_shootings['Category']='Mass Shooting'\n",
    "mass_shootings['Incident Date'] = pd.to_datetime(mass_shootings['Incident Date'])\n",
    "accidents = accidents.drop(columns=['State', 'City Or County', 'Address', 'Operations'])\n",
    "accidents = accidents[~accidents['Incident Date'].str.contains(\"2021\")]\n",
    "accidents = accidents[~accidents['Incident Date'].str.contains(\"2020\")]\n",
    "accidents['Category']='Accident'\n",
    "accidents['Incident Date'] = pd.to_datetime(accidents['Incident Date'])"
   ]
  },
  {
   "cell_type": "code",
   "execution_count": null,
   "metadata": {
    "id": "2e553a9a-41b4-42fb-a8d3-19eeb82227ae",
    "outputId": "c9b441d1-127f-48f8-e92c-4f6ad7b7e387"
   },
   "outputs": [
    {
     "data": {
      "text/html": [
       "<div>\n",
       "<style scoped>\n",
       "    .dataframe tbody tr th:only-of-type {\n",
       "        vertical-align: middle;\n",
       "    }\n",
       "\n",
       "    .dataframe tbody tr th {\n",
       "        vertical-align: top;\n",
       "    }\n",
       "\n",
       "    .dataframe thead th {\n",
       "        text-align: right;\n",
       "    }\n",
       "</style>\n",
       "<table border=\"1\" class=\"dataframe\">\n",
       "  <thead>\n",
       "    <tr style=\"text-align: right;\">\n",
       "      <th></th>\n",
       "      <th>Incident ID</th>\n",
       "      <th>Incident Date</th>\n",
       "      <th># Killed</th>\n",
       "      <th># Injured</th>\n",
       "      <th>Category</th>\n",
       "    </tr>\n",
       "  </thead>\n",
       "  <tbody>\n",
       "    <tr>\n",
       "      <th>788</th>\n",
       "      <td>946496</td>\n",
       "      <td>2017-10-01</td>\n",
       "      <td>59</td>\n",
       "      <td>441</td>\n",
       "      <td>Mass Shooting</td>\n",
       "    </tr>\n",
       "    <tr>\n",
       "      <th>581</th>\n",
       "      <td>577157</td>\n",
       "      <td>2016-06-12</td>\n",
       "      <td>50</td>\n",
       "      <td>53</td>\n",
       "      <td>Mass Shooting</td>\n",
       "    </tr>\n",
       "    <tr>\n",
       "      <th>754</th>\n",
       "      <td>980577</td>\n",
       "      <td>2017-11-05</td>\n",
       "      <td>27</td>\n",
       "      <td>20</td>\n",
       "      <td>Mass Shooting</td>\n",
       "    </tr>\n",
       "    <tr>\n",
       "      <th>1574</th>\n",
       "      <td>1466705</td>\n",
       "      <td>2019-08-03</td>\n",
       "      <td>23</td>\n",
       "      <td>23</td>\n",
       "      <td>Mass Shooting</td>\n",
       "    </tr>\n",
       "    <tr>\n",
       "      <th>1372</th>\n",
       "      <td>1049217</td>\n",
       "      <td>2018-02-14</td>\n",
       "      <td>17</td>\n",
       "      <td>17</td>\n",
       "      <td>Mass Shooting</td>\n",
       "    </tr>\n",
       "  </tbody>\n",
       "</table>\n",
       "</div>"
      ],
      "text/plain": [
       "      Incident ID Incident Date  # Killed  # Injured       Category\n",
       "788        946496    2017-10-01        59        441  Mass Shooting\n",
       "581        577157    2016-06-12        50         53  Mass Shooting\n",
       "754        980577    2017-11-05        27         20  Mass Shooting\n",
       "1574      1466705    2019-08-03        23         23  Mass Shooting\n",
       "1372      1049217    2018-02-14        17         17  Mass Shooting"
      ]
     },
     "execution_count": 21,
     "metadata": {},
     "output_type": "execute_result"
    }
   ],
   "source": [
    "mass_shootings.sort_values('# Killed', ascending=False).head()"
   ]
  },
  {
   "cell_type": "code",
   "execution_count": null,
   "metadata": {
    "id": "6b7681c2-22c0-4949-8955-a823f68344d6",
    "outputId": "6895475b-bb35-4388-e941-9b379359cd52"
   },
   "outputs": [
    {
     "data": {
      "text/html": [
       "<div>\n",
       "<style scoped>\n",
       "    .dataframe tbody tr th:only-of-type {\n",
       "        vertical-align: middle;\n",
       "    }\n",
       "\n",
       "    .dataframe tbody tr th {\n",
       "        vertical-align: top;\n",
       "    }\n",
       "\n",
       "    .dataframe thead th {\n",
       "        text-align: right;\n",
       "    }\n",
       "</style>\n",
       "<table border=\"1\" class=\"dataframe\">\n",
       "  <thead>\n",
       "    <tr style=\"text-align: right;\">\n",
       "      <th></th>\n",
       "      <th>Incident ID</th>\n",
       "      <th>Incident Date</th>\n",
       "      <th># Killed</th>\n",
       "      <th># Injured</th>\n",
       "      <th>Category</th>\n",
       "    </tr>\n",
       "  </thead>\n",
       "  <tbody>\n",
       "    <tr>\n",
       "      <th>1058</th>\n",
       "      <td>1564937</td>\n",
       "      <td>2019-12-05</td>\n",
       "      <td>4</td>\n",
       "      <td>1</td>\n",
       "      <td>Accident</td>\n",
       "    </tr>\n",
       "    <tr>\n",
       "      <th>1400</th>\n",
       "      <td>1323697</td>\n",
       "      <td>2019-02-09</td>\n",
       "      <td>2</td>\n",
       "      <td>0</td>\n",
       "      <td>Accident</td>\n",
       "    </tr>\n",
       "    <tr>\n",
       "      <th>1985</th>\n",
       "      <td>926038</td>\n",
       "      <td>2017-09-02</td>\n",
       "      <td>2</td>\n",
       "      <td>0</td>\n",
       "      <td>Accident</td>\n",
       "    </tr>\n",
       "    <tr>\n",
       "      <th>1825</th>\n",
       "      <td>1031159</td>\n",
       "      <td>2018-01-19</td>\n",
       "      <td>2</td>\n",
       "      <td>0</td>\n",
       "      <td>Accident</td>\n",
       "    </tr>\n",
       "    <tr>\n",
       "      <th>1445</th>\n",
       "      <td>1289271</td>\n",
       "      <td>2018-12-31</td>\n",
       "      <td>2</td>\n",
       "      <td>0</td>\n",
       "      <td>Accident</td>\n",
       "    </tr>\n",
       "  </tbody>\n",
       "</table>\n",
       "</div>"
      ],
      "text/plain": [
       "      Incident ID Incident Date  # Killed  # Injured  Category\n",
       "1058      1564937    2019-12-05         4          1  Accident\n",
       "1400      1323697    2019-02-09         2          0  Accident\n",
       "1985       926038    2017-09-02         2          0  Accident\n",
       "1825      1031159    2018-01-19         2          0  Accident\n",
       "1445      1289271    2018-12-31         2          0  Accident"
      ]
     },
     "execution_count": 22,
     "metadata": {},
     "output_type": "execute_result"
    }
   ],
   "source": [
    "accidents.sort_values('# Killed', ascending=False).head()"
   ]
  },
  {
   "cell_type": "code",
   "execution_count": null,
   "metadata": {
    "id": "3e9621e4-8551-4527-878a-b250c7aafa99",
    "outputId": "b628763a-3482-4e9e-8b71-a64b4a1bb033"
   },
   "outputs": [
    {
     "data": {
      "image/png": "[encoded data removed]",
      "text/plain": [
       "<Figure size 1440x720 with 1 Axes>"
      ]
     },
     "metadata": {
      "needs_background": "light"
     },
     "output_type": "display_data"
    }
   ],
   "source": [
    "mass_shootings.plot(x='Incident Date', y='# Killed', figsize=(20,10));"
   ]
  },
  {
   "cell_type": "code",
   "execution_count": null,
   "metadata": {
    "id": "0903ea4d-80fa-48d6-a089-a83dbc64f46d"
   },
   "outputs": [],
   "source": []
  }
 ],
 "metadata": {
  "colab": {
   "collapsed_sections": [],
   "name": "Initial_Analysis.ipynb",
   "provenance": []
  },
  "kernelspec": {
   "display_name": "Python 3",
   "language": "python",
   "name": "python3"
  },
  "language_info": {
   "codemirror_mode": {
    "name": "ipython",
    "version": 3
   },
   "file_extension": ".py",
   "mimetype": "text/x-python",
   "name": "python",
   "nbconvert_exporter": "python",
   "pygments_lexer": "ipython3",
   "version": "3.8.3"
  }
 },
 "nbformat": 4,
 "nbformat_minor": 5
}
