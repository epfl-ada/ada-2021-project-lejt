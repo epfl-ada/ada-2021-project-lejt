{
 "cells": [
  {
   "cell_type": "code",
   "execution_count": 36,
   "id": "1aa75f24",
   "metadata": {},
   "outputs": [],
   "source": [
    "import pandas as pd\n",
    "import bz2\n",
    "import json\n",
    "from os import listdir"
   ]
  },
  {
   "cell_type": "code",
   "execution_count": 37,
   "id": "79dd425c",
   "metadata": {},
   "outputs": [],
   "source": [
    "from empath import Empath\n",
    "lexicon = Empath()"
   ]
  },
  {
   "cell_type": "code",
   "execution_count": 66,
   "id": "e2dbff01",
   "metadata": {},
   "outputs": [
    {
     "name": "stdout",
     "output_type": "stream",
     "text": [
      "[\"mass_shooting\", \"gun_violence\", \"mass_shootings\", \"gun_crime\", \"gun_ownership\", \"gun_crimes\", \"firearms\", \"firearm\", \"CCW_holders\", \"legal_gun_owners\", \"concealed_carriers\", \"violent_crime\", \"gun_owner\", \"accidental_shootings\", \"fire_arms\", \"gun_owners\", \"gun_death\", \"shootings\", \"gun_use\", \"police_shootings\", \"gun_control_laws\", \"home_invasions\", \"gun_deaths\", \"fire_arm\", \"US_police\", \"strict_gun_control\", \"active_shooters\", \"concealed_carry\", \"firearm_owners\", \"homicide\", \"home_invasion\", \"firearm_ownership\", \"mass_shooter\", \"violent_crimes\", \"accidental_shooting\", \"gun_ban\", \"handguns\", \"most_gun_owners\", \"school_shooting\", \"armed_criminals\", \"legal_guns\", \"responsible_gun_owner\", \"school_shootings\", \"assault_weapons\", \"illegal_guns\", \"mass_shooters\", \"law_enforcement_officers\", \"conceal_carry\", \"gun_possession\", \"legal_gun_ownership\", \"homicides\", \"related_crime\", \"strict_gun_laws\", \"CCW\", \"fully_automatic_weapons\", \"related_homicides\", \"gun_culture\", \"responsible_gun_ownership\", \"concealed_carrier\", \"gun_accidents\", \"armed_citizens\", \"gun_laws\", \"gun_control\", \"responsible_gun_owners\", \"related_violence\", \"stricter_gun_laws\", \"concealed_weapons\", \"US_cops\", \"illegal_firearms\", \"illegal_firearm\", \"legal_gun\", \"police_killings\", \"self_defense\", \"hand_guns\", \"armed_citizen\", \"concealed_carry_permits\", \"police_officers\", \"private_gun_ownership\", \"gun_homicides\", \"legal_firearms\", \"Gun_ownership\", \"accidental_deaths\", \"concealed_gun\", \"gun_advocates\", \"gun_law\", \"negligent_discharges\", \"unarmed_black_men\", \"negligent_discharge\", \"unarmed_citizens\", \"unarmed_people\", \"handgun\", \"illegal_gun\", \"American_police\", \"accidental_discharge\", \"law_enforcement\", \"average_gun_owner\"]\n"
     ]
    }
   ],
   "source": [
    "# Generate a lexicon of keywords that relate to gun violence\n",
    "lexicon.create_category(\"gun_violence\", [\"gun_violence\",\"mass_shooting\", \"firearm\", \"firearm_shooting\"], model=\"reddit\")\n"
   ]
  },
  {
   "cell_type": "code",
   "execution_count": null,
   "id": "cfedc26e",
   "metadata": {},
   "outputs": [],
   "source": [
    "def keyword(row):\n",
    "    '''\n",
    "    Filter the quotation of a particular row of a dataframe with a set of keywords.\n",
    "    :param row: dataframe object\n",
    "    :return: list of comma separated matching keywords\n",
    "    '''\n",
    "    strings = row['quotation']\n",
    "    keywords = [\"gun violence\",\"mass shooting\",\"firearm-related violence\",\"firearm violence\"]\n",
    "    keyword = [key for key in keywords if key.upper() in strings.upper()]\n",
    "    return ','.join(keyword)"
   ]
  },
  {
   "cell_type": "code",
   "execution_count": null,
   "id": "537f1874",
   "metadata": {},
   "outputs": [],
   "source": [
    "# Long one to execute (split dataset into pickles, identifies keywords present in each quote - want to modify,\n",
    "# and saves to new file)... \n",
    "def process_chunk(chunk, i):\n",
    "    print(f'Processing chunk with {len(chunk)} rows')\n",
    "    \n",
    "    # print(chunk.columns)\n",
    "    # print(chunk.shape)\n",
    "    # print(len(chunk[chunk.isna().any(axis=1)]))\n",
    "    # print(chunk.sample(10))\n",
    "    \n",
    "    selected_columns = chunk[[\"speaker\", \"qids\", \"date\", \"quotation\"]]\n",
    "    filtered_chunk= selected_columns.copy()\n",
    "    \n",
    "    filtered_chunk['keyword'] = filtered_chunk.apply(keyword, axis=1)\n",
    "    print(len(filtered_chunk[filtered_chunk.isna().any(axis=1)]))\n",
    "    print(filtered_chunk.sample(5))\n",
    "    print(filtered_chunk.shape)\n",
    "    \n",
    "    filtered_chunk.to_pickle(\"/Users/Justin/Desktop/processed_dfs/2019/\" + str(i) + \"chunk_with_keyword.pkl\", compression='infer', protocol=4)\n",
    "\n",
    "idx = 0\n",
    "df_reader = pd.read_json('/Users/Justin/Desktop/Quote_Bank/quotes-2019.json-004.bz2', lines=True, compression='bz2', chunksize=1500000)\n",
    "for chunk in df_reader:\n",
    "    idx += 1\n",
    "    process_chunk(chunk, idx)\n",
    "    \n",
    "    "
   ]
  },
  {
   "cell_type": "code",
   "execution_count": 35,
   "id": "38d7a823",
   "metadata": {},
   "outputs": [
    {
     "data": {
      "text/html": [
       "<div>\n",
       "<style scoped>\n",
       "    .dataframe tbody tr th:only-of-type {\n",
       "        vertical-align: middle;\n",
       "    }\n",
       "\n",
       "    .dataframe tbody tr th {\n",
       "        vertical-align: top;\n",
       "    }\n",
       "\n",
       "    .dataframe thead th {\n",
       "        text-align: right;\n",
       "    }\n",
       "</style>\n",
       "<table border=\"1\" class=\"dataframe\">\n",
       "  <thead>\n",
       "    <tr style=\"text-align: right;\">\n",
       "      <th></th>\n",
       "      <th>speaker</th>\n",
       "      <th>qids</th>\n",
       "      <th>date</th>\n",
       "      <th>quotation</th>\n",
       "      <th>keyword</th>\n",
       "    </tr>\n",
       "  </thead>\n",
       "  <tbody>\n",
       "    <tr>\n",
       "      <th>2512</th>\n",
       "      <td>Eric Holder</td>\n",
       "      <td>[Q312644, Q3591180]</td>\n",
       "      <td>2019-07-02 23:30:00</td>\n",
       "      <td>Crime Prevention and Research Center... has ex...</td>\n",
       "      <td>mass shooting</td>\n",
       "    </tr>\n",
       "    <tr>\n",
       "      <th>4416</th>\n",
       "      <td>Jeffrey Swanson</td>\n",
       "      <td>[Q22095876]</td>\n",
       "      <td>2019-08-20 03:18:09</td>\n",
       "      <td>Here are some real cases of real people that m...</td>\n",
       "      <td>gun violence</td>\n",
       "    </tr>\n",
       "    <tr>\n",
       "      <th>5574</th>\n",
       "      <td>None</td>\n",
       "      <td>[]</td>\n",
       "      <td>2019-01-10 00:35:56</td>\n",
       "      <td>I follow it every day so I knew we were tracki...</td>\n",
       "      <td>gun violence</td>\n",
       "    </tr>\n",
       "    <tr>\n",
       "      <th>8347</th>\n",
       "      <td>None</td>\n",
       "      <td>[]</td>\n",
       "      <td>2019-04-11 00:00:00</td>\n",
       "      <td>This is so DISGUSTING. THIS is where you are p...</td>\n",
       "      <td>gun violence</td>\n",
       "    </tr>\n",
       "    <tr>\n",
       "      <th>9167</th>\n",
       "      <td>Alexandria Ocasio-Cortez</td>\n",
       "      <td>[Q55223040]</td>\n",
       "      <td>2019-08-05 00:00:00</td>\n",
       "      <td>Video games aren't causing mass shootings, whi...</td>\n",
       "      <td>mass shooting</td>\n",
       "    </tr>\n",
       "    <tr>\n",
       "      <th>...</th>\n",
       "      <td>...</td>\n",
       "      <td>...</td>\n",
       "      <td>...</td>\n",
       "      <td>...</td>\n",
       "      <td>...</td>\n",
       "    </tr>\n",
       "    <tr>\n",
       "      <th>1491742</th>\n",
       "      <td>None</td>\n",
       "      <td>[]</td>\n",
       "      <td>2019-12-20 00:00:00</td>\n",
       "      <td>As you have heard me state, our greatest chall...</td>\n",
       "      <td>gun violence</td>\n",
       "    </tr>\n",
       "    <tr>\n",
       "      <th>1493194</th>\n",
       "      <td>None</td>\n",
       "      <td>[]</td>\n",
       "      <td>2019-06-07 06:50:30</td>\n",
       "      <td>doubt that UBI would significantly reduce the ...</td>\n",
       "      <td>mass shooting</td>\n",
       "    </tr>\n",
       "    <tr>\n",
       "      <th>1496991</th>\n",
       "      <td>Andrew Papachristos</td>\n",
       "      <td>[Q30557107]</td>\n",
       "      <td>2019-03-07 20:07:12</td>\n",
       "      <td>There's a role for police in gun violence prev...</td>\n",
       "      <td>gun violence</td>\n",
       "    </tr>\n",
       "    <tr>\n",
       "      <th>1497601</th>\n",
       "      <td>None</td>\n",
       "      <td>[]</td>\n",
       "      <td>2019-09-03 18:00:00</td>\n",
       "      <td>This decision reflects a clear reality -- Amer...</td>\n",
       "      <td>gun violence</td>\n",
       "    </tr>\n",
       "    <tr>\n",
       "      <th>1498604</th>\n",
       "      <td>Max Boot</td>\n",
       "      <td>[Q3890747]</td>\n",
       "      <td>2019-08-13 21:25:00</td>\n",
       "      <td>Iowa nice has survived in an age of snark, sar...</td>\n",
       "      <td>mass shooting</td>\n",
       "    </tr>\n",
       "  </tbody>\n",
       "</table>\n",
       "<p>607 rows × 5 columns</p>\n",
       "</div>"
      ],
      "text/plain": [
       "                          speaker                 qids                date  \\\n",
       "2512                  Eric Holder  [Q312644, Q3591180] 2019-07-02 23:30:00   \n",
       "4416              Jeffrey Swanson          [Q22095876] 2019-08-20 03:18:09   \n",
       "5574                         None                   [] 2019-01-10 00:35:56   \n",
       "8347                         None                   [] 2019-04-11 00:00:00   \n",
       "9167     Alexandria Ocasio-Cortez          [Q55223040] 2019-08-05 00:00:00   \n",
       "...                           ...                  ...                 ...   \n",
       "1491742                      None                   [] 2019-12-20 00:00:00   \n",
       "1493194                      None                   [] 2019-06-07 06:50:30   \n",
       "1496991       Andrew Papachristos          [Q30557107] 2019-03-07 20:07:12   \n",
       "1497601                      None                   [] 2019-09-03 18:00:00   \n",
       "1498604                  Max Boot           [Q3890747] 2019-08-13 21:25:00   \n",
       "\n",
       "                                                 quotation        keyword  \n",
       "2512     Crime Prevention and Research Center... has ex...  mass shooting  \n",
       "4416     Here are some real cases of real people that m...   gun violence  \n",
       "5574     I follow it every day so I knew we were tracki...   gun violence  \n",
       "8347     This is so DISGUSTING. THIS is where you are p...   gun violence  \n",
       "9167     Video games aren't causing mass shootings, whi...  mass shooting  \n",
       "...                                                    ...            ...  \n",
       "1491742  As you have heard me state, our greatest chall...   gun violence  \n",
       "1493194  doubt that UBI would significantly reduce the ...  mass shooting  \n",
       "1496991  There's a role for police in gun violence prev...   gun violence  \n",
       "1497601  This decision reflects a clear reality -- Amer...   gun violence  \n",
       "1498604  Iowa nice has survived in an age of snark, sar...  mass shooting  \n",
       "\n",
       "[607 rows x 5 columns]"
      ]
     },
     "execution_count": 35,
     "metadata": {},
     "output_type": "execute_result"
    }
   ],
   "source": [
    "# This is how to reopen a pickle, still need to write up filter functions ... \n",
    "small_df=pd.read_pickle('/Users/Justin/Desktop/processed_dfs/2019/1chunk_with_keyword.pkl', compression='infer')\n",
    "small_df[small_df['keyword']!='']"
   ]
  },
  {
   "cell_type": "code",
   "execution_count": 50,
   "id": "38cd284b",
   "metadata": {},
   "outputs": [],
   "source": [
    "for i in range(len(small_df)):\n",
    "    lexicon.analyze(\"small_df.iloc[i]['quotation'].casefold()\", categories=[\"gun_violence\"])"
   ]
  },
  {
   "cell_type": "code",
   "execution_count": 70,
   "id": "bfc6e242",
   "metadata": {},
   "outputs": [
    {
     "data": {
      "text/plain": [
       "{'gun_violence': 0.0}"
      ]
     },
     "execution_count": 70,
     "metadata": {},
     "output_type": "execute_result"
    }
   ],
   "source": [
    "lexicon.analyze(small_df.iloc[9167]['quotation'].casefold(), categories=[\"gun_violence\"])"
   ]
  },
  {
   "cell_type": "code",
   "execution_count": 68,
   "id": "1c07b50c",
   "metadata": {},
   "outputs": [
    {
     "data": {
      "text/plain": [
       "\"video games aren't causing mass shootings, white supremacy is,\""
      ]
     },
     "execution_count": 68,
     "metadata": {},
     "output_type": "execute_result"
    }
   ],
   "source": [
    "small_df.iloc[9167]['quotation'].casefold()"
   ]
  },
  {
   "cell_type": "code",
   "execution_count": null,
   "id": "927fee64",
   "metadata": {},
   "outputs": [],
   "source": []
  }
 ],
 "metadata": {
  "kernelspec": {
   "display_name": "Python 3 (ipykernel)",
   "language": "python",
   "name": "python3"
  },
  "language_info": {
   "codemirror_mode": {
    "name": "ipython",
    "version": 3
   },
   "file_extension": ".py",
   "mimetype": "text/x-python",
   "name": "python",
   "nbconvert_exporter": "python",
   "pygments_lexer": "ipython3",
   "version": "3.8.12"
  }
 },
 "nbformat": 4,
 "nbformat_minor": 5
}
