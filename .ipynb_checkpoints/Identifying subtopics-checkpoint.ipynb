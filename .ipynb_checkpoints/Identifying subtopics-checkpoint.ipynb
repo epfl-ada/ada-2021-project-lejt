{
 "cells": [
  {
   "cell_type": "code",
   "execution_count": 1,
   "id": "47e684a6",
   "metadata": {},
   "outputs": [],
   "source": [
    "import pandas as pd\n",
    "import string\n",
    "\n",
    "import warnings; warnings.simplefilter('ignore')\n",
    "import os, codecs, string, random\n",
    "import numpy as np\n",
    "from numpy.random import seed as random_seed\n",
    "from numpy.random import shuffle as random_shuffle\n",
    "import matplotlib.pyplot as plt\n",
    "%matplotlib inline  \n",
    "\n",
    "seed = 42\n",
    "random.seed(seed)\n",
    "np.random.seed(seed)\n",
    "\n",
    "#NLP libraries\n",
    "import spacy, nltk, gensim, sklearn\n",
    "import pyLDAvis.gensim\n",
    "\n",
    "\n",
    "nlp = spacy.load('en')\n",
    "\n",
    "from gensim.models.phrases import Phrases\n",
    "from gensim.corpora import Dictionary\n",
    "from gensim.models import LdaMulticore\n",
    "\n",
    "from imp import reload\n",
    "\n",
    "\n",
    "# Loading the processed DataFrame into notebook\n",
    "final_df = pd.read_pickle(\"/Users/Justin/Desktop/ADA_project/final_dataset/quotes_no_firearmo_no_unkown_speakers_with_sent_scores.pkl\", compression='infer')\n",
    "\n",
    "# Remove hour from date timestamp: \n",
    "final_df['date'] = final_df.date.dt.date"
   ]
  },
  {
   "cell_type": "markdown",
   "id": "5e76125e",
   "metadata": {},
   "source": [
    "### The aim of this notebook is to pick a group of quotes and identify subtopics within the general \"gun violence\" topic. \n",
    "Are people talking about specific subjects within gun violence on certain given days? \n",
    "What topics seems to come up most often when people talk about gun violence? \n",
    "School shootings, senseless violence, regulation, mass shootings, wars abroad? ... "
   ]
  },
  {
   "cell_type": "markdown",
   "id": "0762ac74",
   "metadata": {},
   "source": [
    "##### Preparing the model: "
   ]
  },
  {
   "cell_type": "code",
   "execution_count": 2,
   "id": "12a864cf",
   "metadata": {},
   "outputs": [],
   "source": [
    "def get_chunks(l, n):\n",
    "    \"\"\"Yield successive n-sized chunks from l.\"\"\"\n",
    "    for i in range(0, len(l), n):\n",
    "        yield l[i:i + n]"
   ]
  },
  {
   "cell_type": "code",
   "execution_count": 3,
   "id": "a74870aa",
   "metadata": {},
   "outputs": [],
   "source": [
    "def make_and_group_chunks(Quotes_to_analyse, chunks):\n",
    "        \n",
    "    limit = 60 # how many chunks total\n",
    "    size = 50 # how many quotes per chunk\n",
    "\n",
    "\n",
    "    Quotes_to_analyse = training_quotes['quotation'].tolist()\n",
    "\n",
    "    print('Number of quotes:',len(Quotes_to_analyse))\n",
    "\n",
    "    # create chunks\n",
    "    chunks_of_quotes = [x for x in get_chunks(Quotes_to_analyse,size)] # this is a list of lists of sentences, which are a list of tokens\n",
    "\n",
    "    # regroup so to have a list of chunks which are strings\n",
    "    for c in chunks_of_quotes:\n",
    "        grouped_chunk = []\n",
    "        for s in c:\n",
    "            grouped_chunk.extend(s)\n",
    "        chunks.append(\"\".join(grouped_chunk))\n",
    "    \n",
    "    return chunks"
   ]
  },
  {
   "cell_type": "code",
   "execution_count": 4,
   "id": "b0ccce49",
   "metadata": {},
   "outputs": [],
   "source": [
    "def filtering_stop_words(chunks, docs):\n",
    "\n",
    "    STOPWORDS = spacy.lang.en.stop_words.STOP_WORDS\n",
    "\n",
    "    processed_docs = []\n",
    "    for doc in nlp.pipe(chunks, n_threads=5, batch_size=10):\n",
    "\n",
    "        # Process document using Spacy NLP pipeline.\n",
    "        ents = doc.ents  # Named entities\n",
    "\n",
    "        # Keep only words (no numbers, no punctuation).\n",
    "        # Lemmatize tokens, remove punctuation and remove stopwords.\n",
    "        doc = [token.lemma_ for token in doc if token.is_alpha and not token.is_stop]\n",
    "\n",
    "        # Remove common words from a stopword list and keep only words of length 3 or more.\n",
    "        doc = [token for token in doc if token not in STOPWORDS and len(token) > 2]\n",
    "\n",
    "        # Add named entities, but only if they are a compound of more than word.\n",
    "        doc.extend([str(entity) for entity in ents if len(entity) > 1])\n",
    "\n",
    "        processed_docs.append(doc)\n",
    "    docs = processed_docs\n",
    "    del processed_docs\n",
    "    \n",
    "    # Add bigrams too\n",
    "    # Add bigrams to docs (only ones that appear 15 times or more).\n",
    "    bigram = Phrases(docs, min_count=15)\n",
    "\n",
    "    for idx in range(len(docs)):\n",
    "        for token in bigram[docs[idx]]:\n",
    "            if '_' in token:\n",
    "                # Token is a bigram, add to document.\n",
    "                docs[idx].append(token)\n",
    "            \n",
    "    return docs"
   ]
  },
  {
   "cell_type": "code",
   "execution_count": 5,
   "id": "38efdb4f",
   "metadata": {},
   "outputs": [],
   "source": [
    "def filter_rare_and_common(dictionary):\n",
    "    \n",
    "    # Remove rare and common tokens.\n",
    "    # Filter out words that occur too frequently or too rarely.\n",
    "    max_freq = 1\n",
    "    min_wordcount = 4\n",
    "    \n",
    "    dictionary.filter_extremes(no_below=min_wordcount, no_above=max_freq)\n",
    "    \n",
    "    return dictionary"
   ]
  },
  {
   "cell_type": "code",
   "execution_count": 21,
   "id": "c93358ed",
   "metadata": {},
   "outputs": [],
   "source": [
    "def run_LDA(df):\n",
    "\n",
    "    # Date we're analysing: \n",
    "    print('Training model with quotes from ' +  str(df['date'].iloc[0]) + ' to ' + str(df['date'].iloc[-1]))\n",
    "\n",
    "\n",
    "    Quotes_to_analyse = df['quotation'].tolist()\n",
    "\n",
    "    # Splitting the quotes up into chunks (which group 50 quotes together)\n",
    "    chunks = []\n",
    "    chunks = make_and_group_chunks(Quotes_to_analyse, chunks)\n",
    "\n",
    "    # Eliminating stopwords\n",
    "    docs = []\n",
    "    docs = filtering_stop_words(chunks, docs)\n",
    "\n",
    "    # Create a dictionary representation of the documents and filter out words that occur too frequently or too rarely:\n",
    "    dictionary = filter_rare_and_common(Dictionary(docs))\n",
    "\n",
    "    # Bag-of-words representation of the documents.\n",
    "    corpus = [dictionary.doc2bow(doc) for doc in docs]\n",
    "\n",
    "    print('Number of chunks: %d' % len(corpus))\n",
    "    print('Number of unique tokens: %d' % len(dictionary))\n",
    "\n",
    "    # Topic detection model: \n",
    "    params = {'passes': 10, 'random_state': seed}\n",
    "    base_models = dict()\n",
    "    model = LdaMulticore(corpus=corpus, num_topics=3, id2word=dictionary, workers=6,\n",
    "                         passes=params['passes'], random_state=params['random_state'])\n",
    "    \n",
    "    return model, corpus, dictionary"
   ]
  },
  {
   "cell_type": "markdown",
   "id": "551c6cfa",
   "metadata": {},
   "source": [
    "##### Step 3: Run topic detection using LDA"
   ]
  },
  {
   "cell_type": "code",
   "execution_count": 22,
   "id": "6d03258b",
   "metadata": {},
   "outputs": [],
   "source": [
    "# Building a new dataframe containing the number of quotes per unique day: \n",
    "quotes_by_day = final_df.groupby('date').count()['quotation'].to_frame(name = 'num_quotes').reset_index()\n",
    "\n",
    "# Finding the day with the most quotes within dataset, and saving those quotes to a new df:\n",
    "training_quotes = final_df[final_df.date == quotes_by_day.iloc[quotes_by_day.num_quotes.idxmax()].date]\n",
    "\n",
    "# Trying over a time period with lots of quotes, but no significant gun events (look for unobserved constraints):\n",
    "unexplained_day = final_df[final_df.date == pd.to_datetime('2015-10-02')]\n",
    "# When we analyse with this day, we end up noticing that there was likely a school shooting within that time frame\n",
    "# as the keyword shows up more often.\n",
    "# Indeed, after further research, we notice there was a school shooting in a community college the day before. \n",
    "\n",
    "\n",
    "# Turns out there were 1074 quotes about gun violence on the 02/22/2018, we will use these as a training set \n",
    "# to try to identify subtopics within these quotes. "
   ]
  },
  {
   "cell_type": "code",
   "execution_count": 34,
   "id": "95ba5991",
   "metadata": {},
   "outputs": [
    {
     "name": "stdout",
     "output_type": "stream",
     "text": [
      "Training model with quotes from 2015-07-23 to 2019-09-18\n",
      "Number of quotes: 616\n"
     ]
    },
    {
     "name": "stderr",
     "output_type": "stream",
     "text": [
      "/Users/Justin/opt/anaconda3/lib/python3.8/site-packages/spacy/language.py:774: DeprecationWarning: [W016] The keyword argument `n_threads` is now deprecated. As of v2.2.2, the argument `n_process` controls parallel inference via multiprocessing.\n",
      "  warnings.warn(Warnings.W016, DeprecationWarning)\n"
     ]
    },
    {
     "name": "stdout",
     "output_type": "stream",
     "text": [
      "Number of chunks: 13\n",
      "Number of unique tokens: 426\n"
     ]
    }
   ],
   "source": [
    "# Call up the functions on the dataframe to analyse - must have \"date\" and \"quotation\" column ... \n",
    "[model, corpus, dictionary] = run_LDA(final_df)"
   ]
  },
  {
   "cell_type": "code",
   "execution_count": 35,
   "id": "7c605374",
   "metadata": {},
   "outputs": [],
   "source": [
    "# model.show_topics(num_words=5)"
   ]
  },
  {
   "cell_type": "code",
   "execution_count": 36,
   "id": "dde3dac7",
   "metadata": {},
   "outputs": [
    {
     "data": {
      "text/html": [
       "<div>\n",
       "<style scoped>\n",
       "    .dataframe tbody tr th:only-of-type {\n",
       "        vertical-align: middle;\n",
       "    }\n",
       "\n",
       "    .dataframe tbody tr th {\n",
       "        vertical-align: top;\n",
       "    }\n",
       "\n",
       "    .dataframe thead th {\n",
       "        text-align: right;\n",
       "    }\n",
       "</style>\n",
       "<table border=\"1\" class=\"dataframe\">\n",
       "  <thead>\n",
       "    <tr style=\"text-align: right;\">\n",
       "      <th></th>\n",
       "      <th>key_words</th>\n",
       "      <th>weight</th>\n",
       "      <th>group</th>\n",
       "    </tr>\n",
       "  </thead>\n",
       "  <tbody>\n",
       "    <tr>\n",
       "      <th>0</th>\n",
       "      <td>gun</td>\n",
       "      <td>0.0050918222</td>\n",
       "      <td>0</td>\n",
       "    </tr>\n",
       "    <tr>\n",
       "      <th>1</th>\n",
       "      <td>mass</td>\n",
       "      <td>0.0047857976</td>\n",
       "      <td>0</td>\n",
       "    </tr>\n",
       "    <tr>\n",
       "      <th>2</th>\n",
       "      <td>mass_shooting</td>\n",
       "      <td>0.003827113</td>\n",
       "      <td>0</td>\n",
       "    </tr>\n",
       "    <tr>\n",
       "      <th>3</th>\n",
       "      <td>control</td>\n",
       "      <td>0.0036939757</td>\n",
       "      <td>0</td>\n",
       "    </tr>\n",
       "    <tr>\n",
       "      <th>4</th>\n",
       "      <td>shooting</td>\n",
       "      <td>0.0036619355</td>\n",
       "      <td>0</td>\n",
       "    </tr>\n",
       "  </tbody>\n",
       "</table>\n",
       "</div>"
      ],
      "text/plain": [
       "       key_words        weight  group\n",
       "0            gun  0.0050918222      0\n",
       "1           mass  0.0047857976      0\n",
       "2  mass_shooting   0.003827113      0\n",
       "3        control  0.0036939757      0\n",
       "4       shooting  0.0036619355      0"
      ]
     },
     "execution_count": 36,
     "metadata": {},
     "output_type": "execute_result"
    }
   ],
   "source": [
    "# Extracting key words only: \n",
    "num_topics = 3\n",
    "num_key_words = 10\n",
    "\n",
    "key_words = []\n",
    "weight = []\n",
    "group = []\n",
    "for i in range(num_topics):\n",
    "    our_list = np.array(model.show_topic(i,num_key_words)).T.tolist()\n",
    "    key_words = key_words + our_list[0]\n",
    "    weight = weight + our_list[1]\n",
    "    group = group + (i*np.ones(num_key_words, dtype=int)).tolist()\n",
    "    \n",
    "key_topics = pd.DataFrame({'key_words':key_words, 'weight':weight, 'group':group})\n",
    "key_topics.head()"
   ]
  },
  {
   "cell_type": "code",
   "execution_count": 37,
   "id": "4eb4e506",
   "metadata": {},
   "outputs": [
    {
     "data": {
      "text/plain": [
       "[(1, 0.99888176)]"
      ]
     },
     "execution_count": 37,
     "metadata": {},
     "output_type": "execute_result"
    }
   ],
   "source": [
    "sorted(model[corpus[0]],key=lambda x:x[1],reverse=True)"
   ]
  },
  {
   "cell_type": "code",
   "execution_count": 38,
   "id": "b166cff0",
   "metadata": {},
   "outputs": [
    {
     "data": {
      "text/html": [
       "\n",
       "<link rel=\"stylesheet\" type=\"text/css\" href=\"https://cdn.jsdelivr.net/gh/bmabey/pyLDAvis/pyLDAvis/js/ldavis.v1.0.0.css\">\n",
       "\n",
       "\n",
       "<div id=\"ldavis_el148251405513289408807364712141\"></div>\n",
       "<script type=\"text/javascript\">\n",
       "\n",
       "var ldavis_el148251405513289408807364712141_data = {\"mdsDat\": {\"x\": [0.07591800316312732, -0.03403854681927762, -0.04187945634384971], \"y\": [-0.0, -0.0, -0.0], \"topics\": [1, 2, 3], \"cluster\": [1, 1, 1], \"Freq\": [99.88353235182255, 0.05827958651036546, 0.05818806166708834]}, \"tinfo\": {\"Term\": [\"gun\", \"mass\", \"mass_shooting\", \"shooting\", \"control\", \"violence\", \"gun_control\", \"talk\", \"gun_violence\", \"time\", \"law\", \"people\", \"like\", \"weapon\", \"Congress\", \"sense\", \"come\", \"common\", \"think\", \"common_sense\", \"want\", \"know\", \"America\", \"country\", \"need\", \"Vegas\", \"Las\", \"life\", \"Las_Vegas\", \"legislation\", \"gun\", \"shooting\", \"mass\", \"mass_shooting\", \"gun_control\", \"violence\", \"control\", \"law\", \"gun_violence\", \"time\", \"talk\", \"weapon\", \"people\", \"like\", \"think\", \"common\", \"know\", \"want\", \"sense\", \"come\", \"common_sense\", \"Congress\", \"America\", \"country\", \"need\", \"Vegas\", \"legislation\", \"president\", \"right\", \"Las_Vegas\", \"life\", \"Las\", \"fine\", \"statement\", \"repeat\", \"particularly\", \"stuff\", \"relate\", \"detect\", \"killing\", \"doubt\", \"office\", \"enact\", \"little\", \"priority\", \"rifle\", \"join\", \"violent\", \"street\", \"number\", \"Puerto\", \"favor\", \"school\", \"result\", \"more than 24 years\", \"White\", \"dead\", \"regulate\", \"hit\", \"idiot\", \"Newtown\", \"highly\", \"add\", \"mass\", \"gun\", \"create\", \"mass_shooting\", \"control\", \"sick\", \"violence\", \"talk\", \"report\", \"shooting\", \"Congress\", \"time\", \"fellow\", \"Nevada\", \"gun_violence\", \"gun_control\", \"day\", \"refuse\", \"moment\", \"people\", \"action\", \"single\", \"victim\", \"sense\", \"life\", \"like\", \"common\", \"prevent\", \"night\", \"die\", \"law\", \"come\", \"common_sense\", \"Las\", \"America\", \"Las Vegas\", \"weapon\", \"want\", \"think\", \"enact\", \"detect\", \"highly\", \"little\", \"dead\", \"grateful\", \"more than 24 years\", \"number\", \"particularly\", \"find\", \"regulate\", \"relate\", \"killing\", \"rifle\", \"stuff\", \"heavy\", \"result\", \"priority\", \"doubt\", \"violent\", \"office\", \"room\", \"argument\", \"Newtown\", \"exactly\", \"hit\", \"fine\", \"Puerto\", \"forward\", \"add\", \"idiot\", \"gun\", \"mass\", \"mass_shooting\", \"shooting\", \"control\", \"law\", \"gun_control\", \"gun_violence\", \"talk\", \"Las\", \"Las_Vegas\", \"come\", \"Act\", \"pass\", \"violence\", \"time\", \"weapon\", \"want\", \"legislation\", \"common_sense\", \"people\", \"happen\", \"Las Vegas\", \"Vegas\", \"need\", \"sense\", \"like\", \"Congress\", \"know\", \"act\", \"shoot\", \"think\", \"country\"], \"Freq\": [536.0, 208.0, 169.0, 199.0, 152.0, 149.0, 144.0, 113.0, 126.0, 116.0, 126.0, 85.0, 80.0, 82.0, 62.0, 63.0, 61.0, 64.0, 67.0, 59.0, 61.0, 60.0, 55.0, 54.0, 51.0, 44.0, 40.0, 40.0, 40.0, 41.0, 536.9378570257635, 199.3957387887631, 208.04376480040295, 169.88632503292098, 144.49719767010123, 149.36519221364745, 152.271575186628, 126.86290949437083, 126.82187053217815, 116.01866372737041, 113.04927528887008, 82.72028225882924, 85.62566290421586, 80.7376994538855, 67.03135665281003, 64.06392345898246, 60.17029015780851, 61.123503699676945, 63.05651364058919, 61.10483358357794, 59.14632781682464, 62.04191106291241, 55.24478530389684, 54.266005349737064, 51.31253768509734, 44.45362407682935, 41.50288457849294, 39.56514534541195, 39.552277435525944, 40.50963087270329, 40.498269983530754, 40.495972394574146, 0.01008174116760911, 0.010050362995964152, 0.010028966120329897, 0.010009513198364739, 0.009998120270743689, 0.009995072546770956, 0.009951562168514262, 0.009934639063373768, 0.009916782077948386, 0.009902182862337102, 0.009894455440575153, 0.009889420518201278, 0.009890010499902756, 0.009882123484486829, 0.009884165253621265, 0.009880465769758416, 0.009874936621875448, 0.009871408057667827, 0.009872108210472373, 0.009871752985887714, 0.009870721290137484, 0.009868292377687592, 0.009865493825742358, 0.009867796092905546, 0.00985928099923848, 0.009858325496587569, 0.0098582153254845, 0.00985625489763177, 0.009855553715190745, 0.009852900341988807, 0.009855058460045175, 0.021164017167099636, 0.022517336345189827, 0.010224134744233873, 0.016924469408826262, 0.016335702678390802, 0.010155601110669965, 0.016057639051337884, 0.015163725135951262, 0.010568675820805583, 0.01619401234348002, 0.013697169626999786, 0.014727064543030702, 0.010115544133158053, 0.01046485860443841, 0.014342724927702876, 0.014262991938175646, 0.01221186443779713, 0.010102469809169613, 0.010097042595297897, 0.013165116303369117, 0.011646898784170362, 0.011293214535680449, 0.012068279571768158, 0.012658227295243053, 0.012069073421492138, 0.01264032500581267, 0.012270207759145446, 0.01180697430801937, 0.011781628776494765, 0.010732897690748578, 0.012722288187949678, 0.012031360926238983, 0.011998768813187316, 0.011594802267329672, 0.01169011571603103, 0.011439817266224311, 0.011870851925433041, 0.011583677045192715, 0.011516852608181083, 0.010129723692755733, 0.010115875242198414, 0.010113955929809541, 0.010110380478021376, 0.010108780879694067, 0.010108901157974463, 0.01010619438265582, 0.010104741791115661, 0.010093592919740551, 0.010104165072181459, 0.010099685991261093, 0.010089627848565465, 0.010088270862837928, 0.010091811361963412, 0.01008181798449569, 0.010094652807835317, 0.010087865823158647, 0.010085428388946532, 0.010081714154527143, 0.010083792809937053, 0.010081774807677085, 0.010086682572725015, 0.010084055982926636, 0.0100790947608652, 0.010080726227796715, 0.010075930516873258, 0.010059234452327091, 0.010073257666197806, 0.010074525214229664, 0.010071786570306815, 0.010071391810822441, 0.019338298745152104, 0.014830005622943326, 0.014465198514445637, 0.01402468188254625, 0.013005450930612155, 0.012664037433641626, 0.012551864058909802, 0.012257246009149512, 0.012017627002134124, 0.011381055745170761, 0.011344065547861472, 0.011559077880350844, 0.010204921262451134, 0.011219859204992657, 0.012049352711632261, 0.011783197437507076, 0.011609615318506718, 0.011447906824622314, 0.011260970732439597, 0.011403689650294396, 0.011556048306912165, 0.011185232424492162, 0.011158726997967081, 0.011205441231637569, 0.01124234610332914, 0.011314820449394051, 0.011367294676270139, 0.011235238376571416, 0.011197449408117963, 0.010840329829370676, 0.010861263390256925, 0.011096683965672871, 0.011026831069308886], \"Total\": [536.0, 208.0, 169.0, 199.0, 152.0, 149.0, 144.0, 113.0, 126.0, 116.0, 126.0, 85.0, 80.0, 82.0, 62.0, 63.0, 61.0, 64.0, 67.0, 59.0, 61.0, 60.0, 55.0, 54.0, 51.0, 44.0, 40.0, 40.0, 40.0, 41.0, 536.9797126608539, 199.42595748298913, 208.079758823193, 169.91771470084424, 144.52401252609832, 149.39329920541041, 152.30091634023702, 126.88829581999241, 126.84847050311501, 116.04517398935094, 113.07645664100816, 82.74376272607319, 85.65038406882614, 80.76170707356759, 67.05397018938389, 64.0871411326502, 60.192447533572796, 61.14653528354676, 63.08048668833382, 61.12842402238453, 59.16973027528812, 62.066843470915984, 55.26734481566532, 54.28846210944387, 51.335190983637894, 44.47575374383158, 41.52512547112193, 39.58657042820271, 39.57408747382429, 40.53219861113916, 40.52116427797917, 40.51894825258665, 4.263195734622071, 4.265141770729703, 4.264986155150603, 4.264456655805388, 4.265202439085257, 4.265053675695997, 4.265636838704065, 4.26706536220384, 4.267857104341465, 4.268330935781877, 4.267056484608732, 4.267835909674185, 4.268611821446859, 4.268665904234055, 4.270077798093155, 4.268975190489502, 4.269859876456204, 4.268603709100508, 4.269583193698024, 4.270016488793559, 4.269781703548421, 4.269243259597372, 4.268749243666967, 4.270093552563684, 4.268870908286748, 4.269192173046665, 4.269951375833966, 4.270159283042788, 4.269937320012294, 4.268914260376353, 4.270186274779482, 208.079758823193, 536.9797126608539, 5.239319689480347, 169.91771470084424, 152.30091634023702, 5.24218915065528, 149.39329920541041, 113.07645664100816, 7.193417232978959, 199.42595748298913, 62.066843470915984, 116.04517398935094, 5.2441999623051485, 7.19551808246654, 126.84847050311501, 144.52401252609832, 32.67273277401072, 5.244618555318432, 5.243174288212801, 85.65038406882614, 23.84732652045906, 16.98404687544341, 36.59954551121774, 63.08048668833382, 40.52116427797917, 80.76170707356759, 64.0871411326502, 38.572295731354004, 37.58178077874136, 11.11319024149192, 126.88829581999241, 61.12842402238453, 59.16973027528812, 40.51894825258665, 55.26734481566532, 37.584002796261025, 82.74376272607319, 61.14653528354676, 67.05397018938389, 4.267056484608732, 4.265636838704065, 4.268914260376353, 4.267835909674185, 4.268870908286748, 4.269208643802452, 4.268749243666967, 4.268603709100508, 4.264456655805388, 4.269977274717139, 4.269192173046665, 4.265053675695997, 4.26706536220384, 4.268665904234055, 4.265202439085257, 4.270890519272063, 4.269243259597372, 4.268611821446859, 4.267857104341465, 4.268975190489502, 4.268330935781877, 4.2707482153888705, 4.27027601364479, 4.269937320012294, 4.271103789252978, 4.269951375833966, 4.263195734622071, 4.269583193698024, 4.271107916183752, 4.270186274779482, 4.270159283042788, 536.9797126608539, 208.079758823193, 169.91771470084424, 199.42595748298913, 152.30091634023702, 126.88829581999241, 144.52401252609832, 126.84847050311501, 113.07645664100816, 40.51894825258665, 40.53219861113916, 61.12842402238453, 5.247279814982847, 35.6563296787889, 149.39329920541041, 116.04517398935094, 82.74376272607319, 61.14653528354676, 41.52512547112193, 59.16973027528812, 85.65038406882614, 38.57718898543562, 37.584002796261025, 44.47575374383158, 51.335190983637894, 63.08048668833382, 80.76170707356759, 62.066843470915984, 60.192447533572796, 25.825175854638466, 30.73058600078262, 67.05397018938389, 54.28846210944387], \"Category\": [\"Default\", \"Default\", \"Default\", \"Default\", \"Default\", \"Default\", \"Default\", \"Default\", \"Default\", \"Default\", \"Default\", \"Default\", \"Default\", \"Default\", \"Default\", \"Default\", \"Default\", \"Default\", \"Default\", \"Default\", \"Default\", \"Default\", \"Default\", \"Default\", \"Default\", \"Default\", \"Default\", \"Default\", \"Default\", \"Default\", \"Topic1\", \"Topic1\", \"Topic1\", \"Topic1\", \"Topic1\", \"Topic1\", \"Topic1\", \"Topic1\", \"Topic1\", \"Topic1\", \"Topic1\", \"Topic1\", \"Topic1\", \"Topic1\", \"Topic1\", \"Topic1\", \"Topic1\", \"Topic1\", \"Topic1\", \"Topic1\", \"Topic1\", \"Topic1\", \"Topic1\", \"Topic1\", \"Topic1\", \"Topic1\", \"Topic1\", \"Topic1\", \"Topic1\", \"Topic1\", \"Topic1\", \"Topic1\", \"Topic2\", \"Topic2\", \"Topic2\", \"Topic2\", \"Topic2\", \"Topic2\", \"Topic2\", \"Topic2\", \"Topic2\", \"Topic2\", \"Topic2\", \"Topic2\", \"Topic2\", \"Topic2\", \"Topic2\", \"Topic2\", \"Topic2\", \"Topic2\", \"Topic2\", \"Topic2\", \"Topic2\", \"Topic2\", \"Topic2\", \"Topic2\", \"Topic2\", \"Topic2\", \"Topic2\", \"Topic2\", \"Topic2\", \"Topic2\", \"Topic2\", \"Topic2\", \"Topic2\", \"Topic2\", \"Topic2\", \"Topic2\", \"Topic2\", \"Topic2\", \"Topic2\", \"Topic2\", \"Topic2\", \"Topic2\", \"Topic2\", \"Topic2\", \"Topic2\", \"Topic2\", \"Topic2\", \"Topic2\", \"Topic2\", \"Topic2\", \"Topic2\", \"Topic2\", \"Topic2\", \"Topic2\", \"Topic2\", \"Topic2\", \"Topic2\", \"Topic2\", \"Topic2\", \"Topic2\", \"Topic2\", \"Topic2\", \"Topic2\", \"Topic2\", \"Topic2\", \"Topic2\", \"Topic2\", \"Topic2\", \"Topic2\", \"Topic2\", \"Topic3\", \"Topic3\", \"Topic3\", \"Topic3\", \"Topic3\", \"Topic3\", \"Topic3\", \"Topic3\", \"Topic3\", \"Topic3\", \"Topic3\", \"Topic3\", \"Topic3\", \"Topic3\", \"Topic3\", \"Topic3\", \"Topic3\", \"Topic3\", \"Topic3\", \"Topic3\", \"Topic3\", \"Topic3\", \"Topic3\", \"Topic3\", \"Topic3\", \"Topic3\", \"Topic3\", \"Topic3\", \"Topic3\", \"Topic3\", \"Topic3\", \"Topic3\", \"Topic3\", \"Topic3\", \"Topic3\", \"Topic3\", \"Topic3\", \"Topic3\", \"Topic3\", \"Topic3\", \"Topic3\", \"Topic3\", \"Topic3\", \"Topic3\", \"Topic3\", \"Topic3\", \"Topic3\", \"Topic3\", \"Topic3\", \"Topic3\", \"Topic3\", \"Topic3\", \"Topic3\", \"Topic3\", \"Topic3\", \"Topic3\", \"Topic3\", \"Topic3\", \"Topic3\", \"Topic3\", \"Topic3\", \"Topic3\", \"Topic3\", \"Topic3\"], \"logprob\": [30.0, 29.0, 28.0, 27.0, 26.0, 25.0, 24.0, 23.0, 22.0, 21.0, 20.0, 19.0, 18.0, 17.0, 16.0, 15.0, 14.0, 13.0, 12.0, 11.0, 10.0, 9.0, 8.0, 7.0, 6.0, 5.0, 4.0, 3.0, 2.0, 1.0, -2.6473, -3.6379, -3.5954, -3.798, -3.9599, -3.9268, -3.9075, -4.0901, -4.0904, -4.1794, -4.2053, -4.5177, -4.4832, -4.542, -4.728, -4.7733, -4.836, -4.8203, -4.7891, -4.8206, -4.8531, -4.8053, -4.9214, -4.9393, -4.9952, -5.1387, -5.2074, -5.2552, -5.2555, -5.2316, -5.2319, -5.232, -6.0837, -6.0868, -6.0889, -6.0909, -6.092, -6.0923, -6.0967, -6.0984, -6.1002, -6.1016, -6.1024, -6.1029, -6.1029, -6.1037, -6.1035, -6.1038, -6.1044, -6.1048, -6.1047, -6.1047, -6.1048, -6.1051, -6.1054, -6.1051, -6.106, -6.1061, -6.1061, -6.1063, -6.1064, -6.1066, -6.1064, -5.3421, -5.2801, -6.0697, -5.5656, -5.6011, -6.0764, -5.6182, -5.6755, -6.0365, -5.6098, -5.7772, -5.7047, -6.0803, -6.0464, -5.7312, -5.7367, -5.892, -6.0816, -6.0822, -5.8168, -5.9394, -5.9702, -5.9038, -5.8561, -5.9038, -5.8575, -5.8872, -5.9257, -5.9279, -6.0211, -5.851, -5.9069, -5.9096, -5.9438, -5.9357, -5.9573, -5.9203, -5.9448, -5.9506, -6.0774, -6.0787, -6.0789, -6.0793, -6.0794, -6.0794, -6.0797, -6.0798, -6.0809, -6.0799, -6.0803, -6.0813, -6.0815, -6.0811, -6.0821, -6.0808, -6.0815, -6.0817, -6.0821, -6.0819, -6.0821, -6.0816, -6.0819, -6.0824, -6.0822, -6.0827, -6.0843, -6.0829, -6.0828, -6.0831, -6.0831, -5.4307, -5.6962, -5.7211, -5.752, -5.8275, -5.8541, -5.863, -5.8867, -5.9065, -5.9609, -5.9641, -5.9454, -6.07, -5.9751, -5.9038, -5.9262, -5.941, -5.955, -5.9715, -5.9589, -5.9456, -5.9782, -5.9806, -5.9764, -5.9731, -5.9667, -5.9621, -5.9738, -5.9771, -6.0096, -6.0076, -5.9862, -5.9925], \"loglift\": [30.0, 29.0, 28.0, 27.0, 26.0, 25.0, 24.0, 23.0, 22.0, 21.0, 20.0, 19.0, 18.0, 17.0, 16.0, 15.0, 14.0, 13.0, 12.0, 11.0, 10.0, 9.0, 8.0, 7.0, 6.0, 5.0, 4.0, 3.0, 2.0, 1.0, 0.0011, 0.001, 0.001, 0.001, 0.001, 0.001, 0.001, 0.001, 0.001, 0.0009, 0.0009, 0.0009, 0.0009, 0.0009, 0.0008, 0.0008, 0.0008, 0.0008, 0.0008, 0.0008, 0.0008, 0.0008, 0.0008, 0.0008, 0.0007, 0.0007, 0.0006, 0.0006, 0.0006, 0.0006, 0.0006, 0.0006, 1.4006, 1.3971, 1.395, 1.3931, 1.3918, 1.3916, 1.3871, 1.385, 1.383, 1.3815, 1.381, 1.3803, 1.3802, 1.3793, 1.3792, 1.3791, 1.3783, 1.3783, 1.3781, 1.378, 1.3779, 1.3778, 1.3776, 1.3776, 1.377, 1.3768, 1.3766, 1.3764, 1.3764, 1.3763, 1.3762, -1.7457, -2.6318, 1.2085, -1.7666, -1.6926, 1.2012, -1.6905, -1.4692, 0.9246, -1.9709, -0.9711, -1.5244, 1.1969, 0.9145, -1.6398, -1.7759, -0.4442, 1.1955, 1.1952, -1.3328, -0.1767, 0.1318, -0.5695, -1.0662, -0.6713, -1.3147, -1.1132, -0.6439, -0.6201, 0.5051, -1.76, -1.0855, -1.0557, -0.7113, -1.0135, -0.6496, -1.4017, -1.1238, -1.2218, 1.406, 1.405, 1.404, 1.4039, 1.4035, 1.4035, 1.4033, 1.4032, 1.4031, 1.4028, 1.4026, 1.4025, 1.4019, 1.4019, 1.4017, 1.4017, 1.4014, 1.4013, 1.4011, 1.401, 1.401, 1.4009, 1.4008, 1.4004, 1.4002, 1.4, 1.4, 1.3999, 1.3996, 1.3996, 1.3995, -2.7824, -2.0998, -1.9221, -2.1131, -1.919, -1.7631, -1.9021, -1.7954, -1.7002, -0.7283, -0.7319, -1.124, 1.2067, -0.6148, -1.9761, -1.7458, -1.4224, -1.134, -0.7635, -1.105, -1.4616, -0.6966, -0.6729, -0.8371, -0.9772, -1.1768, -1.4193, -1.1677, -1.1404, -0.3266, -0.4986, -1.2574, -1.0525]}, \"token.table\": {\"Topic\": [1, 1, 1, 1, 1, 1, 1, 1, 1, 1, 1, 1, 1, 1, 1, 1, 1, 1, 1, 1, 1, 1, 1, 1, 1, 1, 1, 1, 1, 1, 1, 1, 1, 1, 1, 1, 1, 1, 1, 1, 1, 1, 1, 1, 1, 1, 1, 1, 1, 1, 1, 1, 1, 1, 1, 1, 1, 1, 1, 1, 1, 1, 1, 1, 1, 1, 1, 1, 1, 1, 1, 1, 1, 1, 1, 1, 1, 1, 1, 1, 1, 1, 1, 1, 1, 1, 1, 1, 1, 1], \"Freq\": [0.9528746657884004, 0.9951626983970915, 0.9989230405933676, 0.9871924550126121, 1.011068464580371, 1.0115414757869137, 0.9728277963830064, 0.9367819010487216, 0.9368595992939234, 0.9893030763104815, 0.9367476264304503, 1.006769523907429, 1.006402121403838, 0.9367272860260799, 0.9367076009182594, 0.9978991111837351, 0.9986402711821731, 0.9971314678214951, 0.9980241987542295, 0.9946864932577693, 0.9543223731964935, 1.0100165244288841, 0.9370159196510687, 0.9377263351877916, 0.9898147841409828, 0.9372385021820464, 0.9374143544684715, 0.9365260591570888, 0.9367645325252949, 0.9534342770946118, 0.9367731354647495, 0.9382632768923514, 0.9365251542447591, 0.9369417926684707, 1.0000377804573761, 0.9963742182566119, 1.0011945709418804, 1.0109601302138425, 0.9365728252574749, 0.9370064039766764, 0.9367788173509959, 0.9367332070923873, 0.9367510825648749, 0.9374124041854595, 0.9968027960074982, 1.000880334780176, 1.0114358360989977, 0.9871384673351454, 1.002950568221835, 0.9372431566389271, 0.9996166911013158, 1.0004842655711361, 0.9536207886967477, 0.9370426257607709, 0.9934705418015347, 1.0111282438615896, 0.9370745734658257, 0.9371344584524997, 0.9379858497458589, 1.009638409906658, 1.004081895661938, 1.0104436824742653, 1.0110883798990042, 0.9370727925886191, 0.9533581798679389, 0.9369454074365177, 0.9378545509974751, 0.937869398513617, 0.9731119123617329, 0.9369341957753037, 0.9370609201419189, 1.0107624092774703, 0.9366040324238085, 0.9368160430018664, 0.9987240636120726, 1.008766965888985, 0.9978640820464635, 0.9537999977309086, 1.000939300549132, 0.9378351799348651, 0.9367988917050422, 0.9378218401417462, 0.9993238500455414, 0.9991951231339254, 0.9996107206547419, 1.0109415153436678, 0.9973673571204178, 0.9369930302971239, 0.9976035390579817, 1.0030967563654931], \"Term\": [\"Act\", \"America\", \"Congress\", \"Las\", \"Las Vegas\", \"Las_Vegas\", \"Nevada\", \"Newtown\", \"Puerto\", \"Vegas\", \"White\", \"act\", \"action\", \"add\", \"argument\", \"come\", \"common\", \"common_sense\", \"control\", \"country\", \"create\", \"day\", \"dead\", \"detect\", \"die\", \"doubt\", \"enact\", \"exactly\", \"favor\", \"fellow\", \"find\", \"fine\", \"forward\", \"grateful\", \"gun\", \"gun_control\", \"gun_violence\", \"happen\", \"heavy\", \"highly\", \"hit\", \"idiot\", \"join\", \"killing\", \"know\", \"law\", \"legislation\", \"life\", \"like\", \"little\", \"mass\", \"mass_shooting\", \"moment\", \"more than 24 years\", \"need\", \"night\", \"number\", \"office\", \"particularly\", \"pass\", \"people\", \"president\", \"prevent\", \"priority\", \"refuse\", \"regulate\", \"relate\", \"repeat\", \"report\", \"result\", \"rifle\", \"right\", \"room\", \"school\", \"sense\", \"shoot\", \"shooting\", \"sick\", \"single\", \"statement\", \"street\", \"stuff\", \"talk\", \"think\", \"time\", \"victim\", \"violence\", \"violent\", \"want\", \"weapon\"]}, \"R\": 30, \"lambda.step\": 0.01, \"plot.opts\": {\"xlab\": \"PC1\", \"ylab\": \"PC2\"}, \"topic.order\": [2, 1, 3]};\n",
       "\n",
       "function LDAvis_load_lib(url, callback){\n",
       "  var s = document.createElement('script');\n",
       "  s.src = url;\n",
       "  s.async = true;\n",
       "  s.onreadystatechange = s.onload = callback;\n",
       "  s.onerror = function(){console.warn(\"failed to load library \" + url);};\n",
       "  document.getElementsByTagName(\"head\")[0].appendChild(s);\n",
       "}\n",
       "\n",
       "if(typeof(LDAvis) !== \"undefined\"){\n",
       "   // already loaded: just create the visualization\n",
       "   !function(LDAvis){\n",
       "       new LDAvis(\"#\" + \"ldavis_el148251405513289408807364712141\", ldavis_el148251405513289408807364712141_data);\n",
       "   }(LDAvis);\n",
       "}else if(typeof define === \"function\" && define.amd){\n",
       "   // require.js is available: use it to load d3/LDAvis\n",
       "   require.config({paths: {d3: \"https://d3js.org/d3.v5\"}});\n",
       "   require([\"d3\"], function(d3){\n",
       "      window.d3 = d3;\n",
       "      LDAvis_load_lib(\"https://cdn.jsdelivr.net/gh/bmabey/pyLDAvis/pyLDAvis/js/ldavis.v3.0.0.js\", function(){\n",
       "        new LDAvis(\"#\" + \"ldavis_el148251405513289408807364712141\", ldavis_el148251405513289408807364712141_data);\n",
       "      });\n",
       "    });\n",
       "}else{\n",
       "    // require.js not available: dynamically load d3 & LDAvis\n",
       "    LDAvis_load_lib(\"https://d3js.org/d3.v5.js\", function(){\n",
       "         LDAvis_load_lib(\"https://cdn.jsdelivr.net/gh/bmabey/pyLDAvis/pyLDAvis/js/ldavis.v3.0.0.js\", function(){\n",
       "                 new LDAvis(\"#\" + \"ldavis_el148251405513289408807364712141\", ldavis_el148251405513289408807364712141_data);\n",
       "            })\n",
       "         });\n",
       "}\n",
       "</script>"
      ],
      "text/plain": [
       "<IPython.core.display.HTML object>"
      ]
     },
     "execution_count": 38,
     "metadata": {},
     "output_type": "execute_result"
    }
   ],
   "source": [
    "# plot topics\n",
    "data =  pyLDAvis.gensim.prepare(model, corpus, dictionary)\n",
    "pyLDAvis.display(data)"
   ]
  },
  {
   "cell_type": "code",
   "execution_count": null,
   "id": "4d9e810d",
   "metadata": {},
   "outputs": [],
   "source": []
  }
 ],
 "metadata": {
  "kernelspec": {
   "display_name": "Python 3 (ipykernel)",
   "language": "python",
   "name": "python3"
  },
  "language_info": {
   "codemirror_mode": {
    "name": "ipython",
    "version": 3
   },
   "file_extension": ".py",
   "mimetype": "text/x-python",
   "name": "python",
   "nbconvert_exporter": "python",
   "pygments_lexer": "ipython3",
   "version": "3.8.12"
  }
 },
 "nbformat": 4,
 "nbformat_minor": 5
}
