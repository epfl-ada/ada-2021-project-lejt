{
 "cells": [
  {
   "cell_type": "code",
   "execution_count": 2,
   "id": "47e684a6",
   "metadata": {},
   "outputs": [],
   "source": [
    "import pandas as pd\n",
    "import string\n",
    "import matplotlib.pyplot as plt\n",
    "import seaborn as sns\n",
    "\n",
    "import warnings; warnings.simplefilter('ignore')\n",
    "import os, codecs, string, random\n",
    "import numpy as np\n",
    "from numpy.random import seed as random_seed\n",
    "from numpy.random import shuffle as random_shuffle\n",
    "import matplotlib.pyplot as plt\n",
    "%matplotlib inline  \n",
    "\n",
    "seed = 42\n",
    "random.seed(seed)\n",
    "np.random.seed(seed)\n",
    "\n",
    "#NLP libraries\n",
    "import spacy, nltk, gensim, sklearn\n",
    "import pyLDAvis.gensim\n",
    "\n",
    "\n",
    "nlp = spacy.load('en')\n",
    "\n",
    "from gensim.models.phrases import Phrases\n",
    "from gensim.corpora import Dictionary\n",
    "from gensim.models import LdaMulticore\n",
    "\n",
    "from imp import reload\n",
    "\n",
    "\n",
    "# Loading the processed DataFrame into notebook\n",
    "final_df = pd.read_pickle(\"/Users/Justin/Desktop/ADA_project/final_dataset/quotes_no_firearmo_no_unkown_speakers_with_sent_scores.pkl\", compression='infer')\n",
    "\n",
    "# Remove hour from date timestamp: \n",
    "final_df['date'] = final_df.date.dt.date"
   ]
  },
  {
   "cell_type": "markdown",
   "id": "5e76125e",
   "metadata": {},
   "source": [
    "### The aim of this notebook is to pick a group of quotes and identify subtopics within the general \"gun violence\" topic. \n",
    "Are people talking about specific subjects within gun violence on certain given days? \n",
    "What topics seems to come up most often when people talk about gun violence? \n",
    "School shootings, senseless violence, regulation, mass shootings, wars abroad? ... "
   ]
  },
  {
   "cell_type": "markdown",
   "id": "0762ac74",
   "metadata": {},
   "source": [
    "##### Preparing the model: "
   ]
  },
  {
   "cell_type": "code",
   "execution_count": 3,
   "id": "12a864cf",
   "metadata": {},
   "outputs": [],
   "source": [
    "def get_chunks(l, n):\n",
    "    \"\"\"Yield successive n-sized chunks from l.\"\"\"\n",
    "    for i in range(0, len(l), n):\n",
    "        yield l[i:i + n]"
   ]
  },
  {
   "cell_type": "code",
   "execution_count": 4,
   "id": "a74870aa",
   "metadata": {},
   "outputs": [],
   "source": [
    "def make_and_group_chunks(Quotes_to_analyse, chunks):\n",
    "        \n",
    "    limit = 60 # how many chunks total\n",
    "    size = 50 # how many quotes per chunk\n",
    "\n",
    "\n",
    "    Quotes_to_analyse = training_quotes['quotation'].tolist()\n",
    "\n",
    "    print('Number of quotes:',len(Quotes_to_analyse))\n",
    "\n",
    "    # create chunks\n",
    "    chunks_of_quotes = [x for x in get_chunks(Quotes_to_analyse,size)] # this is a list of lists of sentences, which are a list of tokens\n",
    "\n",
    "    # regroup so to have a list of chunks which are strings\n",
    "    for c in chunks_of_quotes:\n",
    "        grouped_chunk = []\n",
    "        for s in c:\n",
    "            grouped_chunk.extend(s)\n",
    "        chunks.append(\"\".join(grouped_chunk))\n",
    "    \n",
    "    return chunks"
   ]
  },
  {
   "cell_type": "code",
   "execution_count": 5,
   "id": "b0ccce49",
   "metadata": {},
   "outputs": [],
   "source": [
    "def filtering_stop_words(chunks, docs):\n",
    "\n",
    "    STOPWORDS = spacy.lang.en.stop_words.STOP_WORDS\n",
    "\n",
    "    processed_docs = []\n",
    "    for doc in nlp.pipe(chunks, n_threads=5, batch_size=10):\n",
    "\n",
    "        # Process document using Spacy NLP pipeline.\n",
    "        ents = doc.ents  # Named entities\n",
    "\n",
    "        # Keep only words (no numbers, no punctuation).\n",
    "        # Lemmatize tokens, remove punctuation and remove stopwords.\n",
    "        doc = [token.lemma_ for token in doc if token.is_alpha and not token.is_stop]\n",
    "\n",
    "        # Remove common words from a stopword list and keep only words of length 3 or more.\n",
    "        doc = [token for token in doc if token not in STOPWORDS and len(token) > 2]\n",
    "\n",
    "        # Add named entities, but only if they are a compound of more than word.\n",
    "        doc.extend([str(entity) for entity in ents if len(entity) > 1])\n",
    "\n",
    "        processed_docs.append(doc)\n",
    "    docs = processed_docs\n",
    "    del processed_docs\n",
    "    \n",
    "    # Add bigrams too\n",
    "    # Add bigrams to docs (only ones that appear 15 times or more).\n",
    "    bigram = Phrases(docs, min_count=15)\n",
    "\n",
    "    for idx in range(len(docs)):\n",
    "        for token in bigram[docs[idx]]:\n",
    "            if '_' in token:\n",
    "                # Token is a bigram, add to document.\n",
    "                docs[idx].append(token)\n",
    "            \n",
    "    return docs"
   ]
  },
  {
   "cell_type": "code",
   "execution_count": 6,
   "id": "38efdb4f",
   "metadata": {},
   "outputs": [],
   "source": [
    "def filter_rare_and_common(dictionary):\n",
    "    \n",
    "    # Remove rare and common tokens.\n",
    "    # Filter out words that occur too frequently or too rarely.\n",
    "    max_freq = 1\n",
    "    min_wordcount = 4\n",
    "    \n",
    "    dictionary.filter_extremes(no_below=min_wordcount, no_above=max_freq)\n",
    "    \n",
    "    return dictionary"
   ]
  },
  {
   "cell_type": "code",
   "execution_count": 7,
   "id": "c93358ed",
   "metadata": {},
   "outputs": [],
   "source": [
    "def run_LDA(df, num):\n",
    "\n",
    "    # Date we're analysing: \n",
    "    print('Training model with quotes from ' +  str(df['date'].iloc[0]) + ' to ' + str(df['date'].iloc[-1]))\n",
    "\n",
    "\n",
    "    Quotes_to_analyse = df['quotation'].tolist()\n",
    "\n",
    "    # Splitting the quotes up into chunks (which group 50 quotes together)\n",
    "    chunks = []\n",
    "    chunks = make_and_group_chunks(Quotes_to_analyse, chunks)\n",
    "\n",
    "    # Eliminating stopwords\n",
    "    docs = []\n",
    "    docs = filtering_stop_words(chunks, docs)\n",
    "\n",
    "    # Create a dictionary representation of the documents and filter out words that occur too frequently or too rarely:\n",
    "    dictionary = filter_rare_and_common(Dictionary(docs))\n",
    "\n",
    "    # Bag-of-words representation of the documents.\n",
    "    corpus = [dictionary.doc2bow(doc) for doc in docs]\n",
    "\n",
    "    print('Number of chunks: %d' % len(corpus))\n",
    "    print('Number of unique tokens: %d' % len(dictionary))\n",
    "\n",
    "    # Topic detection model: \n",
    "    params = {'passes': 10, 'random_state': seed}\n",
    "    base_models = dict()\n",
    "    model = LdaMulticore(corpus=corpus, num_topics = num, id2word=dictionary, workers=6,\n",
    "                         passes=params['passes'], random_state=params['random_state'])\n",
    "    \n",
    "    return model, corpus, dictionary"
   ]
  },
  {
   "cell_type": "markdown",
   "id": "551c6cfa",
   "metadata": {},
   "source": [
    "##### Step 3: Run topic detection using LDA"
   ]
  },
  {
   "cell_type": "code",
   "execution_count": 8,
   "id": "6d03258b",
   "metadata": {},
   "outputs": [],
   "source": [
    "# Building a new dataframe containing the number of quotes per unique day: \n",
    "quotes_by_day = final_df.groupby('date').count()['quotation'].to_frame(name = 'num_quotes').reset_index()\n",
    "\n",
    "# Finding the day with the most quotes within dataset, and saving those quotes to a new df:\n",
    "training_quotes = final_df[final_df.date == quotes_by_day.iloc[quotes_by_day.num_quotes.idxmax()].date]\n",
    "\n",
    "# Trying over a time period with lots of quotes, but no significant gun events (look for unobserved constraints):\n",
    "unexplained_day = final_df[final_df.date == pd.to_datetime('2015-10-02')]\n",
    "# When we analyse with this day, we end up noticing that there was likely a school shooting within that time frame\n",
    "# as the keyword shows up more often.\n",
    "# Indeed, after further research, we notice there was a school shooting in a community college the day before. \n",
    "\n",
    "\n",
    "# Turns out there were 1074 quotes about gun violence on the 02/22/2018, we will use these as a training set \n",
    "# to try to identify subtopics within these quotes. "
   ]
  },
  {
   "cell_type": "code",
   "execution_count": 25,
   "id": "95ba5991",
   "metadata": {},
   "outputs": [
    {
     "name": "stdout",
     "output_type": "stream",
     "text": [
      "Training model with quotes from 2015-07-23 to 2019-09-18\n",
      "Number of quotes: 616\n",
      "Number of chunks: 13\n",
      "Number of unique tokens: 426\n"
     ]
    }
   ],
   "source": [
    "# Call up the functions on the dataframe to analyse - must have \"date\" and \"quotation\" column ... \n",
    "num_topics = 2\n",
    "[model, corpus, dictionary] = run_LDA(final_df, num_topics)\n",
    "import warnings\n",
    "warnings.filterwarnings(\"ignore\")"
   ]
  },
  {
   "cell_type": "code",
   "execution_count": 26,
   "id": "7c605374",
   "metadata": {},
   "outputs": [],
   "source": [
    "# model.show_topics(num_words=5)"
   ]
  },
  {
   "cell_type": "code",
   "execution_count": 27,
   "id": "dde3dac7",
   "metadata": {},
   "outputs": [],
   "source": [
    "# Extracting key words only: \n",
    "num_topics = 2\n",
    "num_key_words = 10\n",
    "\n",
    "key_words = []\n",
    "weight = []\n",
    "group = []\n",
    "for i in range(num_topics):\n",
    "    our_list = np.array(model.show_topic(i,num_key_words)).T.tolist()\n",
    "    key_words = key_words + our_list[0]\n",
    "    weight = weight + list(np.float_(our_list[1]))\n",
    "    group = group + (i*np.ones(num_key_words, dtype=int)).tolist()\n",
    "    \n",
    "key_topics = pd.DataFrame({'key_words':key_words, 'weight':weight, 'group':group})\n",
    "\n",
    "# Normalize the weights: \n",
    "normed_weight = []\n",
    "for i in range(num_topics):\n",
    "    current_topic = key_topics[key_topics.group == i]\n",
    "    normed_weight = normed_weight + list((current_topic.weight - current_topic.weight.min())/(current_topic.weight.max() - current_topic.weight.min()))\n",
    "key_topics.weight = normed_weight"
   ]
  },
  {
   "cell_type": "code",
   "execution_count": 28,
   "id": "4eb4e506",
   "metadata": {},
   "outputs": [
    {
     "data": {
      "text/plain": [
       "[(1, 0.9990863)]"
      ]
     },
     "execution_count": 28,
     "metadata": {},
     "output_type": "execute_result"
    }
   ],
   "source": [
    "sorted(model[corpus[0]],key=lambda x:x[1],reverse=True)"
   ]
  },
  {
   "cell_type": "code",
   "execution_count": 29,
   "id": "b166cff0",
   "metadata": {},
   "outputs": [
    {
     "data": {
      "text/html": [
       "\n",
       "<link rel=\"stylesheet\" type=\"text/css\" href=\"https://cdn.jsdelivr.net/gh/bmabey/pyLDAvis/pyLDAvis/js/ldavis.v1.0.0.css\">\n",
       "\n",
       "\n",
       "<div id=\"ldavis_el453821406266534664006766994874\"></div>\n",
       "<script type=\"text/javascript\">\n",
       "\n",
       "var ldavis_el453821406266534664006766994874_data = {\"mdsDat\": {\"x\": [0.054762450721229726, -0.054762450721229726], \"y\": [0.0, 0.0], \"topics\": [1, 2], \"cluster\": [1, 1], \"Freq\": [99.90473129172038, 0.09526870827962197]}, \"tinfo\": {\"Term\": [\"mass\", \"gun\", \"mass_shooting\", \"control\", \"shooting\", \"violence\", \"talk\", \"time\", \"gun_violence\", \"gun_control\", \"Congress\", \"people\", \"like\", \"law\", \"sense\", \"come\", \"common\", \"weapon\", \"common_sense\", \"want\", \"think\", \"America\", \"need\", \"life\", \"country\", \"Las\", \"victim\", \"prevent\", \"night\", \"know\", \"gun\", \"shooting\", \"gun_control\", \"mass_shooting\", \"law\", \"mass\", \"violence\", \"control\", \"gun_violence\", \"time\", \"talk\", \"weapon\", \"people\", \"like\", \"think\", \"know\", \"common\", \"want\", \"sense\", \"come\", \"common_sense\", \"country\", \"America\", \"Congress\", \"need\", \"Vegas\", \"legislation\", \"president\", \"stop\", \"right\", \"Las_Vegas\", \"Las\", \"life\", \"repeat\", \"detect\", \"fine\", \"particularly\", \"statement\", \"relate\", \"killing\", \"stuff\", \"little\", \"doubt\", \"office\", \"enact\", \"Puerto\", \"idiot\", \"violent\", \"number\", \"more than 24 years\", \"Newtown\", \"favor\", \"highly\", \"priority\", \"rifle\", \"result\", \"yes\", \"street\", \"This afternoon\", \"regulate\", \"grateful\", \"argument\", \"dead\", \"mass\", \"create\", \"gun\", \"mass_shooting\", \"control\", \"shooting\", \"violence\", \"talk\", \"report\", \"Congress\", \"time\", \"moment\", \"Nevada\", \"gun_violence\", \"gun_control\", \"day\", \"people\", \"victim\", \"single\", \"action\", \"United States\", \"sense\", \"life\", \"night\", \"prevent\", \"like\", \"law\", \"Las\", \"come\", \"Las Vegas\", \"common\", \"common_sense\", \"need\", \"America\", \"weapon\", \"want\"], \"Freq\": [206.0, 532.0, 168.0, 151.0, 197.0, 148.0, 112.0, 115.0, 125.0, 143.0, 61.0, 85.0, 80.0, 125.0, 62.0, 60.0, 63.0, 82.0, 58.0, 60.0, 66.0, 54.0, 51.0, 40.0, 53.0, 40.0, 36.0, 38.0, 37.0, 59.0, 532.3988431910731, 197.7987214290903, 143.38251277093647, 168.5523467122263, 125.92529216990127, 206.31909986751742, 148.18219576887736, 151.07345147171804, 125.86256985814931, 115.13311498868714, 112.1929536742407, 82.16064382182653, 85.01743190580484, 80.18162921550432, 66.59857038662484, 59.807658734710806, 63.655712097494785, 60.75296248160458, 62.66299242920005, 60.73320114092541, 58.79669212644276, 53.952727910659874, 54.91111763288371, 61.638636259446464, 51.01821118066252, 44.23242872274756, 41.310740272855256, 39.37761306694185, 37.45087176050836, 39.36620034553853, 40.32241554367191, 40.30362144260441, 40.2958976459974, 0.016455549132771398, 0.01643935236997043, 0.016435025041989418, 0.016427378581072363, 0.016388043826145768, 0.016367948933588273, 0.01634030015227979, 0.016331362730428692, 0.016295384137304563, 0.016254027942897143, 0.016253655971102586, 0.016245077056003705, 0.01623949579595507, 0.016235819839397102, 0.016233364152300915, 0.016228816334251633, 0.016228590794792493, 0.016227382307242758, 0.016226823507985776, 0.016215548218158935, 0.016192812494173123, 0.016191228668568248, 0.016185889779281676, 0.01617483329639281, 0.016174774386832586, 0.016174104500976328, 0.016173153532361286, 0.016172709185964168, 0.01616940856746134, 0.016166520315880083, 0.03362526391352715, 0.016691939732907286, 0.03440707120169079, 0.02713525320696757, 0.025719801223994088, 0.025721390098989837, 0.024765202096912197, 0.023839434991734146, 0.01718204875953633, 0.021712262949090743, 0.023188092181902775, 0.016559317481540527, 0.017073345472750738, 0.022478829492459336, 0.022545988074244794, 0.019474463801737864, 0.021181738597887568, 0.019439617955300324, 0.018253988998062916, 0.018747578738136043, 0.016527006429322904, 0.02003971618025813, 0.019313331006353063, 0.019168556554277273, 0.01916263193564905, 0.0201500453709059, 0.020418913653158333, 0.019059666440029256, 0.019478328268888546, 0.01882740287536962, 0.019406429992200512, 0.019136885091570653, 0.018839173005502342, 0.018867860278201056, 0.01909404437624559, 0.018828904227590183], \"Total\": [206.0, 532.0, 168.0, 151.0, 197.0, 148.0, 112.0, 115.0, 125.0, 143.0, 61.0, 85.0, 80.0, 125.0, 62.0, 60.0, 63.0, 82.0, 58.0, 60.0, 66.0, 54.0, 51.0, 40.0, 53.0, 40.0, 36.0, 38.0, 37.0, 59.0, 532.4332502622748, 197.8244428191893, 143.40505875901073, 168.57948196543327, 125.94571108355443, 206.35272513143096, 148.20696097097428, 151.09917127294204, 125.88504868764177, 115.15630308086904, 112.21679310923243, 82.17973786620277, 85.03861364440273, 80.20177926087523, 66.61723658769648, 59.825563028143726, 63.67511852748699, 60.77179138583217, 62.68303214538031, 60.7526794691943, 58.815829011534326, 53.97110108716331, 54.92998549316191, 61.66034852239555, 51.03705035366802, 44.25033760271052, 41.328693516766464, 39.39511446779362, 37.46771126532337, 39.38407657445696, 40.340857669607765, 40.32268110904444, 40.31521097700375, 4.3819260642704085, 4.382404518787112, 4.382531245366368, 4.382756583629429, 4.383916590692248, 4.384508521959079, 4.385321912730612, 4.385586555855856, 4.386645781969004, 4.387865543844913, 4.387876644605738, 4.388129290987221, 4.388294476939633, 4.388402439496647, 4.388474997830529, 4.388609005321814, 4.388614957407612, 4.388651255930551, 4.388667906230224, 4.389000371660053, 4.389670412482743, 4.389716925882353, 4.38987617658027, 4.390201359414939, 4.390202624282219, 4.3902226935668685, 4.390250424429804, 4.390263217851815, 4.3903609655321585, 4.390445005293121, 206.35272513143096, 5.348407027608619, 532.4332502622748, 168.57948196543327, 151.09917127294204, 197.8244428191893, 148.20696097097428, 112.21679310923243, 7.280860301446663, 61.66034852239555, 115.15630308086904, 5.352314131016367, 7.284062805297616, 125.88504868764177, 143.40505875901073, 32.52291561065183, 85.03861364440273, 36.41772169624991, 16.983744444757065, 23.78332356714405, 5.3532662686747425, 62.68303214538031, 40.31521097700375, 37.399142359542026, 38.37276194606672, 80.20177926087523, 125.94571108355443, 40.32268110904444, 60.7526794691943, 37.40918667643798, 63.67511852748699, 58.815829011534326, 51.03705035366802, 54.92998549316191, 82.17973786620277, 60.77179138583217], \"Category\": [\"Default\", \"Default\", \"Default\", \"Default\", \"Default\", \"Default\", \"Default\", \"Default\", \"Default\", \"Default\", \"Default\", \"Default\", \"Default\", \"Default\", \"Default\", \"Default\", \"Default\", \"Default\", \"Default\", \"Default\", \"Default\", \"Default\", \"Default\", \"Default\", \"Default\", \"Default\", \"Default\", \"Default\", \"Default\", \"Default\", \"Topic1\", \"Topic1\", \"Topic1\", \"Topic1\", \"Topic1\", \"Topic1\", \"Topic1\", \"Topic1\", \"Topic1\", \"Topic1\", \"Topic1\", \"Topic1\", \"Topic1\", \"Topic1\", \"Topic1\", \"Topic1\", \"Topic1\", \"Topic1\", \"Topic1\", \"Topic1\", \"Topic1\", \"Topic1\", \"Topic1\", \"Topic1\", \"Topic1\", \"Topic1\", \"Topic1\", \"Topic1\", \"Topic1\", \"Topic1\", \"Topic1\", \"Topic1\", \"Topic1\", \"Topic2\", \"Topic2\", \"Topic2\", \"Topic2\", \"Topic2\", \"Topic2\", \"Topic2\", \"Topic2\", \"Topic2\", \"Topic2\", \"Topic2\", \"Topic2\", \"Topic2\", \"Topic2\", \"Topic2\", \"Topic2\", \"Topic2\", \"Topic2\", \"Topic2\", \"Topic2\", \"Topic2\", \"Topic2\", \"Topic2\", \"Topic2\", \"Topic2\", \"Topic2\", \"Topic2\", \"Topic2\", \"Topic2\", \"Topic2\", \"Topic2\", \"Topic2\", \"Topic2\", \"Topic2\", \"Topic2\", \"Topic2\", \"Topic2\", \"Topic2\", \"Topic2\", \"Topic2\", \"Topic2\", \"Topic2\", \"Topic2\", \"Topic2\", \"Topic2\", \"Topic2\", \"Topic2\", \"Topic2\", \"Topic2\", \"Topic2\", \"Topic2\", \"Topic2\", \"Topic2\", \"Topic2\", \"Topic2\", \"Topic2\", \"Topic2\", \"Topic2\", \"Topic2\", \"Topic2\", \"Topic2\", \"Topic2\", \"Topic2\", \"Topic2\", \"Topic2\", \"Topic2\"], \"logprob\": [30.0, 29.0, 28.0, 27.0, 26.0, 25.0, 24.0, 23.0, 22.0, 21.0, 20.0, 19.0, 18.0, 17.0, 16.0, 15.0, 14.0, 13.0, 12.0, 11.0, 10.0, 9.0, 8.0, 7.0, 6.0, 5.0, 4.0, 3.0, 2.0, 1.0, -2.656, -3.6461, -3.9679, -3.8061, -4.0977, -3.6039, -3.9349, -3.9156, -4.0982, -4.1873, -4.2131, -4.5247, -4.4905, -4.5491, -4.7347, -4.8422, -4.7799, -4.8266, -4.7956, -4.8269, -4.8593, -4.9453, -4.9277, -4.8121, -5.0012, -5.1439, -5.2122, -5.2602, -5.3103, -5.2605, -5.2365, -5.2369, -5.2371, -6.0852, -6.0862, -6.0864, -6.0869, -6.0893, -6.0905, -6.0922, -6.0928, -6.095, -6.0975, -6.0975, -6.0981, -6.0984, -6.0986, -6.0988, -6.0991, -6.0991, -6.0992, -6.0992, -6.0999, -6.1013, -6.1014, -6.1017, -6.1024, -6.1024, -6.1024, -6.1025, -6.1025, -6.1027, -6.1029, -5.3706, -6.0709, -5.3476, -5.585, -5.6386, -5.6385, -5.6764, -5.7145, -6.042, -5.808, -5.7422, -6.0789, -6.0483, -5.7733, -5.7703, -5.9168, -5.8327, -5.9185, -5.9815, -5.9548, -6.0809, -5.8881, -5.9251, -5.9326, -5.9329, -5.8826, -5.8694, -5.9383, -5.9166, -5.9505, -5.9203, -5.9342, -5.9499, -5.9484, -5.9365, -5.9505], \"loglift\": [30.0, 29.0, 28.0, 27.0, 26.0, 25.0, 24.0, 23.0, 22.0, 21.0, 20.0, 19.0, 18.0, 17.0, 16.0, 15.0, 14.0, 13.0, 12.0, 11.0, 10.0, 9.0, 8.0, 7.0, 6.0, 5.0, 4.0, 3.0, 2.0, 1.0, 0.0009, 0.0008, 0.0008, 0.0008, 0.0008, 0.0008, 0.0008, 0.0008, 0.0008, 0.0008, 0.0007, 0.0007, 0.0007, 0.0007, 0.0007, 0.0007, 0.0006, 0.0006, 0.0006, 0.0006, 0.0006, 0.0006, 0.0006, 0.0006, 0.0006, 0.0005, 0.0005, 0.0005, 0.0005, 0.0005, 0.0005, 0.0005, 0.0005, 1.3716, 1.3705, 1.3703, 1.3697, 1.3671, 1.3657, 1.3638, 1.3632, 1.3608, 1.358, 1.3579, 1.3574, 1.357, 1.3567, 1.3566, 1.3562, 1.3562, 1.3561, 1.3561, 1.3553, 1.3538, 1.3537, 1.3533, 1.3526, 1.3525, 1.3525, 1.3524, 1.3524, 1.3522, 1.352, -1.7658, 1.1866, -2.6907, -1.7781, -1.7222, -1.9916, -1.7407, -1.5006, 0.9071, -0.9953, -1.5542, 1.1779, 0.9003, -1.6743, -1.8016, -0.4644, -1.3415, -0.5793, 0.1206, -0.1895, 1.1758, -1.0919, -0.6875, -0.6199, -0.6459, -1.3329, -1.7709, -0.7009, -1.089, -0.6381, -1.1397, -1.0743, -0.9481, -1.0201, -1.4111, -1.1233]}, \"token.table\": {\"Topic\": [1, 1, 1, 1, 1, 1, 1, 1, 1, 1, 1, 1, 1, 1, 1, 1, 1, 1, 1, 1, 1, 1, 1, 1, 1, 1, 1, 1, 1, 1, 1, 1, 1, 1, 1, 1, 1, 1, 1, 1, 1, 1, 1, 1, 1, 1, 1, 1, 1, 1, 1, 1, 1, 1, 1, 1, 1, 1, 1, 1, 1, 1, 1, 1, 1, 1, 1, 1, 1, 1, 1, 1, 1, 1, 1], \"Freq\": [1.0012746136051103, 1.005508426172471, 0.9919975284338902, 0.9890618665415758, 0.9915505596732872, 0.961002147717477, 0.9114417543646578, 0.9115158567912638, 0.9111155126279417, 0.9340092102756179, 0.9943426962081485, 1.0091104353958034, 0.9110868175539998, 1.004070940293771, 1.0051021730312566, 1.0031313167145797, 0.9993436676580912, 1.0005354516075189, 0.9348577948891823, 1.0146691764987983, 0.9110693779736677, 0.9127409354504437, 0.9116049614626428, 0.911550169730778, 0.9114382964182675, 0.9127145423616051, 0.9111071025844384, 0.999186282483182, 0.9971754221049383, 1.0009131450760562, 0.9113692552473124, 0.9114934318692073, 0.9121337223586664, 1.0029157598027822, 1.000431050140402, 0.9920468447270631, 0.9921813387710273, 0.99748410493215, 0.9118584446553027, 0.9982906688961519, 1.0024944793379598, 0.9341753637039488, 0.9114492929593508, 0.9992740498635545, 0.9893274996601576, 0.9114505291196892, 0.9116026552199054, 0.9126676153863735, 0.9995459281055051, 0.9899704703709737, 0.9902857671128641, 0.911230143526345, 0.911109757598739, 0.9123029365701236, 0.9128405959688416, 0.9614248468150313, 0.9111874319689844, 0.9112204881402419, 0.9902479223111693, 1.0050566771225193, 1.000887439278528, 1.0009571243429745, 0.9124261188026789, 0.987516951275424, 0.9111196776832104, 0.9120786807089688, 0.9980680867522083, 1.0057457113490387, 0.9986426875760394, 0.988529713645076, 0.9986035678107265, 0.9114783613846327, 1.0037551733948233, 0.9978128688303265, 0.911119940187222], \"Term\": [\"America\", \"Congress\", \"Las\", \"Las Vegas\", \"Las_Vegas\", \"Nevada\", \"Newtown\", \"Puerto\", \"This afternoon\", \"United States\", \"Vegas\", \"action\", \"argument\", \"come\", \"common\", \"common_sense\", \"control\", \"country\", \"create\", \"day\", \"dead\", \"detect\", \"doubt\", \"enact\", \"favor\", \"fine\", \"grateful\", \"gun\", \"gun_control\", \"gun_violence\", \"highly\", \"idiot\", \"killing\", \"know\", \"law\", \"legislation\", \"life\", \"like\", \"little\", \"mass\", \"mass_shooting\", \"moment\", \"more than 24 years\", \"need\", \"night\", \"number\", \"office\", \"particularly\", \"people\", \"president\", \"prevent\", \"priority\", \"regulate\", \"relate\", \"repeat\", \"report\", \"result\", \"rifle\", \"right\", \"sense\", \"shooting\", \"single\", \"statement\", \"stop\", \"street\", \"stuff\", \"talk\", \"think\", \"time\", \"victim\", \"violence\", \"violent\", \"want\", \"weapon\", \"yes\"]}, \"R\": 30, \"lambda.step\": 0.01, \"plot.opts\": {\"xlab\": \"PC1\", \"ylab\": \"PC2\"}, \"topic.order\": [2, 1]};\n",
       "\n",
       "function LDAvis_load_lib(url, callback){\n",
       "  var s = document.createElement('script');\n",
       "  s.src = url;\n",
       "  s.async = true;\n",
       "  s.onreadystatechange = s.onload = callback;\n",
       "  s.onerror = function(){console.warn(\"failed to load library \" + url);};\n",
       "  document.getElementsByTagName(\"head\")[0].appendChild(s);\n",
       "}\n",
       "\n",
       "if(typeof(LDAvis) !== \"undefined\"){\n",
       "   // already loaded: just create the visualization\n",
       "   !function(LDAvis){\n",
       "       new LDAvis(\"#\" + \"ldavis_el453821406266534664006766994874\", ldavis_el453821406266534664006766994874_data);\n",
       "   }(LDAvis);\n",
       "}else if(typeof define === \"function\" && define.amd){\n",
       "   // require.js is available: use it to load d3/LDAvis\n",
       "   require.config({paths: {d3: \"https://d3js.org/d3.v5\"}});\n",
       "   require([\"d3\"], function(d3){\n",
       "      window.d3 = d3;\n",
       "      LDAvis_load_lib(\"https://cdn.jsdelivr.net/gh/bmabey/pyLDAvis/pyLDAvis/js/ldavis.v3.0.0.js\", function(){\n",
       "        new LDAvis(\"#\" + \"ldavis_el453821406266534664006766994874\", ldavis_el453821406266534664006766994874_data);\n",
       "      });\n",
       "    });\n",
       "}else{\n",
       "    // require.js not available: dynamically load d3 & LDAvis\n",
       "    LDAvis_load_lib(\"https://d3js.org/d3.v5.js\", function(){\n",
       "         LDAvis_load_lib(\"https://cdn.jsdelivr.net/gh/bmabey/pyLDAvis/pyLDAvis/js/ldavis.v3.0.0.js\", function(){\n",
       "                 new LDAvis(\"#\" + \"ldavis_el453821406266534664006766994874\", ldavis_el453821406266534664006766994874_data);\n",
       "            })\n",
       "         });\n",
       "}\n",
       "</script>"
      ],
      "text/plain": [
       "<IPython.core.display.HTML object>"
      ]
     },
     "execution_count": 29,
     "metadata": {},
     "output_type": "execute_result"
    }
   ],
   "source": [
    "# plot topics\n",
    "data =  pyLDAvis.gensim.prepare(model, corpus, dictionary)\n",
    "pyLDAvis.display(data)"
   ]
  },
  {
   "cell_type": "code",
   "execution_count": 32,
   "id": "e48ae99f",
   "metadata": {},
   "outputs": [],
   "source": [
    "# Save the final plot as HTML file to later add to datastory:\n",
    "pyLDAvis.save_html(data, '/Users/Justin/Desktop/ADA_project/LDAvis.html')\n",
    "warnings.filterwarnings(\"ignore\")"
   ]
  },
  {
   "cell_type": "code",
   "execution_count": 33,
   "id": "206c2596",
   "metadata": {},
   "outputs": [
    {
     "data": {
      "text/html": [
       "\n",
       "<link rel=\"stylesheet\" type=\"text/css\" href=\"https://cdn.jsdelivr.net/gh/bmabey/pyLDAvis/pyLDAvis/js/ldavis.v1.0.0.css\">\n",
       "\n",
       "\n",
       "<div id=\"ldavis_el453821406266534664004219218196\"></div>\n",
       "<script type=\"text/javascript\">\n",
       "\n",
       "var ldavis_el453821406266534664004219218196_data = {\"mdsDat\": {\"x\": [0.054762450721229726, -0.054762450721229726], \"y\": [0.0, 0.0], \"topics\": [1, 2], \"cluster\": [1, 1], \"Freq\": [99.90473129172038, 0.09526870827962197]}, \"tinfo\": {\"Term\": [\"mass\", \"gun\", \"mass_shooting\", \"control\", \"shooting\", \"violence\", \"talk\", \"time\", \"gun_violence\", \"gun_control\", \"Congress\", \"people\", \"like\", \"law\", \"sense\", \"come\", \"common\", \"weapon\", \"common_sense\", \"want\", \"think\", \"America\", \"need\", \"life\", \"country\", \"Las\", \"victim\", \"prevent\", \"night\", \"know\", \"gun\", \"shooting\", \"gun_control\", \"mass_shooting\", \"law\", \"mass\", \"violence\", \"control\", \"gun_violence\", \"time\", \"talk\", \"weapon\", \"people\", \"like\", \"think\", \"know\", \"common\", \"want\", \"sense\", \"come\", \"common_sense\", \"country\", \"America\", \"Congress\", \"need\", \"Vegas\", \"legislation\", \"president\", \"stop\", \"right\", \"Las_Vegas\", \"Las\", \"life\", \"repeat\", \"detect\", \"fine\", \"particularly\", \"statement\", \"relate\", \"killing\", \"stuff\", \"little\", \"doubt\", \"office\", \"enact\", \"Puerto\", \"idiot\", \"violent\", \"number\", \"more than 24 years\", \"Newtown\", \"favor\", \"highly\", \"priority\", \"rifle\", \"result\", \"yes\", \"street\", \"This afternoon\", \"regulate\", \"grateful\", \"argument\", \"dead\", \"mass\", \"create\", \"gun\", \"mass_shooting\", \"control\", \"shooting\", \"violence\", \"talk\", \"report\", \"Congress\", \"time\", \"moment\", \"Nevada\", \"gun_violence\", \"gun_control\", \"day\", \"people\", \"victim\", \"single\", \"action\", \"United States\", \"sense\", \"life\", \"night\", \"prevent\", \"like\", \"law\", \"Las\", \"come\", \"Las Vegas\", \"common\", \"common_sense\", \"need\", \"America\", \"weapon\", \"want\"], \"Freq\": [206.0, 532.0, 168.0, 151.0, 197.0, 148.0, 112.0, 115.0, 125.0, 143.0, 61.0, 85.0, 80.0, 125.0, 62.0, 60.0, 63.0, 82.0, 58.0, 60.0, 66.0, 54.0, 51.0, 40.0, 53.0, 40.0, 36.0, 38.0, 37.0, 59.0, 532.3988431910731, 197.7987214290903, 143.38251277093647, 168.5523467122263, 125.92529216990127, 206.31909986751742, 148.18219576887736, 151.07345147171804, 125.86256985814931, 115.13311498868714, 112.1929536742407, 82.16064382182653, 85.01743190580484, 80.18162921550432, 66.59857038662484, 59.807658734710806, 63.655712097494785, 60.75296248160458, 62.66299242920005, 60.73320114092541, 58.79669212644276, 53.952727910659874, 54.91111763288371, 61.638636259446464, 51.01821118066252, 44.23242872274756, 41.310740272855256, 39.37761306694185, 37.45087176050836, 39.36620034553853, 40.32241554367191, 40.30362144260441, 40.2958976459974, 0.016455549132771398, 0.01643935236997043, 0.016435025041989418, 0.016427378581072363, 0.016388043826145768, 0.016367948933588273, 0.01634030015227979, 0.016331362730428692, 0.016295384137304563, 0.016254027942897143, 0.016253655971102586, 0.016245077056003705, 0.01623949579595507, 0.016235819839397102, 0.016233364152300915, 0.016228816334251633, 0.016228590794792493, 0.016227382307242758, 0.016226823507985776, 0.016215548218158935, 0.016192812494173123, 0.016191228668568248, 0.016185889779281676, 0.01617483329639281, 0.016174774386832586, 0.016174104500976328, 0.016173153532361286, 0.016172709185964168, 0.01616940856746134, 0.016166520315880083, 0.03362526391352715, 0.016691939732907286, 0.03440707120169079, 0.02713525320696757, 0.025719801223994088, 0.025721390098989837, 0.024765202096912197, 0.023839434991734146, 0.01718204875953633, 0.021712262949090743, 0.023188092181902775, 0.016559317481540527, 0.017073345472750738, 0.022478829492459336, 0.022545988074244794, 0.019474463801737864, 0.021181738597887568, 0.019439617955300324, 0.018253988998062916, 0.018747578738136043, 0.016527006429322904, 0.02003971618025813, 0.019313331006353063, 0.019168556554277273, 0.01916263193564905, 0.0201500453709059, 0.020418913653158333, 0.019059666440029256, 0.019478328268888546, 0.01882740287536962, 0.019406429992200512, 0.019136885091570653, 0.018839173005502342, 0.018867860278201056, 0.01909404437624559, 0.018828904227590183], \"Total\": [206.0, 532.0, 168.0, 151.0, 197.0, 148.0, 112.0, 115.0, 125.0, 143.0, 61.0, 85.0, 80.0, 125.0, 62.0, 60.0, 63.0, 82.0, 58.0, 60.0, 66.0, 54.0, 51.0, 40.0, 53.0, 40.0, 36.0, 38.0, 37.0, 59.0, 532.4332502622748, 197.8244428191893, 143.40505875901073, 168.57948196543327, 125.94571108355443, 206.35272513143096, 148.20696097097428, 151.09917127294204, 125.88504868764177, 115.15630308086904, 112.21679310923243, 82.17973786620277, 85.03861364440273, 80.20177926087523, 66.61723658769648, 59.825563028143726, 63.67511852748699, 60.77179138583217, 62.68303214538031, 60.7526794691943, 58.815829011534326, 53.97110108716331, 54.92998549316191, 61.66034852239555, 51.03705035366802, 44.25033760271052, 41.328693516766464, 39.39511446779362, 37.46771126532337, 39.38407657445696, 40.340857669607765, 40.32268110904444, 40.31521097700375, 4.3819260642704085, 4.382404518787112, 4.382531245366368, 4.382756583629429, 4.383916590692248, 4.384508521959079, 4.385321912730612, 4.385586555855856, 4.386645781969004, 4.387865543844913, 4.387876644605738, 4.388129290987221, 4.388294476939633, 4.388402439496647, 4.388474997830529, 4.388609005321814, 4.388614957407612, 4.388651255930551, 4.388667906230224, 4.389000371660053, 4.389670412482743, 4.389716925882353, 4.38987617658027, 4.390201359414939, 4.390202624282219, 4.3902226935668685, 4.390250424429804, 4.390263217851815, 4.3903609655321585, 4.390445005293121, 206.35272513143096, 5.348407027608619, 532.4332502622748, 168.57948196543327, 151.09917127294204, 197.8244428191893, 148.20696097097428, 112.21679310923243, 7.280860301446663, 61.66034852239555, 115.15630308086904, 5.352314131016367, 7.284062805297616, 125.88504868764177, 143.40505875901073, 32.52291561065183, 85.03861364440273, 36.41772169624991, 16.983744444757065, 23.78332356714405, 5.3532662686747425, 62.68303214538031, 40.31521097700375, 37.399142359542026, 38.37276194606672, 80.20177926087523, 125.94571108355443, 40.32268110904444, 60.7526794691943, 37.40918667643798, 63.67511852748699, 58.815829011534326, 51.03705035366802, 54.92998549316191, 82.17973786620277, 60.77179138583217], \"Category\": [\"Default\", \"Default\", \"Default\", \"Default\", \"Default\", \"Default\", \"Default\", \"Default\", \"Default\", \"Default\", \"Default\", \"Default\", \"Default\", \"Default\", \"Default\", \"Default\", \"Default\", \"Default\", \"Default\", \"Default\", \"Default\", \"Default\", \"Default\", \"Default\", \"Default\", \"Default\", \"Default\", \"Default\", \"Default\", \"Default\", \"Topic1\", \"Topic1\", \"Topic1\", \"Topic1\", \"Topic1\", \"Topic1\", \"Topic1\", \"Topic1\", \"Topic1\", \"Topic1\", \"Topic1\", \"Topic1\", \"Topic1\", \"Topic1\", \"Topic1\", \"Topic1\", \"Topic1\", \"Topic1\", \"Topic1\", \"Topic1\", \"Topic1\", \"Topic1\", \"Topic1\", \"Topic1\", \"Topic1\", \"Topic1\", \"Topic1\", \"Topic1\", \"Topic1\", \"Topic1\", \"Topic1\", \"Topic1\", \"Topic1\", \"Topic2\", \"Topic2\", \"Topic2\", \"Topic2\", \"Topic2\", \"Topic2\", \"Topic2\", \"Topic2\", \"Topic2\", \"Topic2\", \"Topic2\", \"Topic2\", \"Topic2\", \"Topic2\", \"Topic2\", \"Topic2\", \"Topic2\", \"Topic2\", \"Topic2\", \"Topic2\", \"Topic2\", \"Topic2\", \"Topic2\", \"Topic2\", \"Topic2\", \"Topic2\", \"Topic2\", \"Topic2\", \"Topic2\", \"Topic2\", \"Topic2\", \"Topic2\", \"Topic2\", \"Topic2\", \"Topic2\", \"Topic2\", \"Topic2\", \"Topic2\", \"Topic2\", \"Topic2\", \"Topic2\", \"Topic2\", \"Topic2\", \"Topic2\", \"Topic2\", \"Topic2\", \"Topic2\", \"Topic2\", \"Topic2\", \"Topic2\", \"Topic2\", \"Topic2\", \"Topic2\", \"Topic2\", \"Topic2\", \"Topic2\", \"Topic2\", \"Topic2\", \"Topic2\", \"Topic2\", \"Topic2\", \"Topic2\", \"Topic2\", \"Topic2\", \"Topic2\", \"Topic2\"], \"logprob\": [30.0, 29.0, 28.0, 27.0, 26.0, 25.0, 24.0, 23.0, 22.0, 21.0, 20.0, 19.0, 18.0, 17.0, 16.0, 15.0, 14.0, 13.0, 12.0, 11.0, 10.0, 9.0, 8.0, 7.0, 6.0, 5.0, 4.0, 3.0, 2.0, 1.0, -2.656, -3.6461, -3.9679, -3.8061, -4.0977, -3.6039, -3.9349, -3.9156, -4.0982, -4.1873, -4.2131, -4.5247, -4.4905, -4.5491, -4.7347, -4.8422, -4.7799, -4.8266, -4.7956, -4.8269, -4.8593, -4.9453, -4.9277, -4.8121, -5.0012, -5.1439, -5.2122, -5.2602, -5.3103, -5.2605, -5.2365, -5.2369, -5.2371, -6.0852, -6.0862, -6.0864, -6.0869, -6.0893, -6.0905, -6.0922, -6.0928, -6.095, -6.0975, -6.0975, -6.0981, -6.0984, -6.0986, -6.0988, -6.0991, -6.0991, -6.0992, -6.0992, -6.0999, -6.1013, -6.1014, -6.1017, -6.1024, -6.1024, -6.1024, -6.1025, -6.1025, -6.1027, -6.1029, -5.3706, -6.0709, -5.3476, -5.585, -5.6386, -5.6385, -5.6764, -5.7145, -6.042, -5.808, -5.7422, -6.0789, -6.0483, -5.7733, -5.7703, -5.9168, -5.8327, -5.9185, -5.9815, -5.9548, -6.0809, -5.8881, -5.9251, -5.9326, -5.9329, -5.8826, -5.8694, -5.9383, -5.9166, -5.9505, -5.9203, -5.9342, -5.9499, -5.9484, -5.9365, -5.9505], \"loglift\": [30.0, 29.0, 28.0, 27.0, 26.0, 25.0, 24.0, 23.0, 22.0, 21.0, 20.0, 19.0, 18.0, 17.0, 16.0, 15.0, 14.0, 13.0, 12.0, 11.0, 10.0, 9.0, 8.0, 7.0, 6.0, 5.0, 4.0, 3.0, 2.0, 1.0, 0.0009, 0.0008, 0.0008, 0.0008, 0.0008, 0.0008, 0.0008, 0.0008, 0.0008, 0.0008, 0.0007, 0.0007, 0.0007, 0.0007, 0.0007, 0.0007, 0.0006, 0.0006, 0.0006, 0.0006, 0.0006, 0.0006, 0.0006, 0.0006, 0.0006, 0.0005, 0.0005, 0.0005, 0.0005, 0.0005, 0.0005, 0.0005, 0.0005, 1.3716, 1.3705, 1.3703, 1.3697, 1.3671, 1.3657, 1.3638, 1.3632, 1.3608, 1.358, 1.3579, 1.3574, 1.357, 1.3567, 1.3566, 1.3562, 1.3562, 1.3561, 1.3561, 1.3553, 1.3538, 1.3537, 1.3533, 1.3526, 1.3525, 1.3525, 1.3524, 1.3524, 1.3522, 1.352, -1.7658, 1.1866, -2.6907, -1.7781, -1.7222, -1.9916, -1.7407, -1.5006, 0.9071, -0.9953, -1.5542, 1.1779, 0.9003, -1.6743, -1.8016, -0.4644, -1.3415, -0.5793, 0.1206, -0.1895, 1.1758, -1.0919, -0.6875, -0.6199, -0.6459, -1.3329, -1.7709, -0.7009, -1.089, -0.6381, -1.1397, -1.0743, -0.9481, -1.0201, -1.4111, -1.1233]}, \"token.table\": {\"Topic\": [1, 1, 1, 1, 1, 1, 1, 1, 1, 1, 1, 1, 1, 1, 1, 1, 1, 1, 1, 1, 1, 1, 1, 1, 1, 1, 1, 1, 1, 1, 1, 1, 1, 1, 1, 1, 1, 1, 1, 1, 1, 1, 1, 1, 1, 1, 1, 1, 1, 1, 1, 1, 1, 1, 1, 1, 1, 1, 1, 1, 1, 1, 1, 1, 1, 1, 1, 1, 1, 1, 1, 1, 1, 1, 1], \"Freq\": [1.0012746136051103, 1.005508426172471, 0.9919975284338902, 0.9890618665415758, 0.9915505596732872, 0.961002147717477, 0.9114417543646578, 0.9115158567912638, 0.9111155126279417, 0.9340092102756179, 0.9943426962081485, 1.0091104353958034, 0.9110868175539998, 1.004070940293771, 1.0051021730312566, 1.0031313167145797, 0.9993436676580912, 1.0005354516075189, 0.9348577948891823, 1.0146691764987983, 0.9110693779736677, 0.9127409354504437, 0.9116049614626428, 0.911550169730778, 0.9114382964182675, 0.9127145423616051, 0.9111071025844384, 0.999186282483182, 0.9971754221049383, 1.0009131450760562, 0.9113692552473124, 0.9114934318692073, 0.9121337223586664, 1.0029157598027822, 1.000431050140402, 0.9920468447270631, 0.9921813387710273, 0.99748410493215, 0.9118584446553027, 0.9982906688961519, 1.0024944793379598, 0.9341753637039488, 0.9114492929593508, 0.9992740498635545, 0.9893274996601576, 0.9114505291196892, 0.9116026552199054, 0.9126676153863735, 0.9995459281055051, 0.9899704703709737, 0.9902857671128641, 0.911230143526345, 0.911109757598739, 0.9123029365701236, 0.9128405959688416, 0.9614248468150313, 0.9111874319689844, 0.9112204881402419, 0.9902479223111693, 1.0050566771225193, 1.000887439278528, 1.0009571243429745, 0.9124261188026789, 0.987516951275424, 0.9111196776832104, 0.9120786807089688, 0.9980680867522083, 1.0057457113490387, 0.9986426875760394, 0.988529713645076, 0.9986035678107265, 0.9114783613846327, 1.0037551733948233, 0.9978128688303265, 0.911119940187222], \"Term\": [\"America\", \"Congress\", \"Las\", \"Las Vegas\", \"Las_Vegas\", \"Nevada\", \"Newtown\", \"Puerto\", \"This afternoon\", \"United States\", \"Vegas\", \"action\", \"argument\", \"come\", \"common\", \"common_sense\", \"control\", \"country\", \"create\", \"day\", \"dead\", \"detect\", \"doubt\", \"enact\", \"favor\", \"fine\", \"grateful\", \"gun\", \"gun_control\", \"gun_violence\", \"highly\", \"idiot\", \"killing\", \"know\", \"law\", \"legislation\", \"life\", \"like\", \"little\", \"mass\", \"mass_shooting\", \"moment\", \"more than 24 years\", \"need\", \"night\", \"number\", \"office\", \"particularly\", \"people\", \"president\", \"prevent\", \"priority\", \"regulate\", \"relate\", \"repeat\", \"report\", \"result\", \"rifle\", \"right\", \"sense\", \"shooting\", \"single\", \"statement\", \"stop\", \"street\", \"stuff\", \"talk\", \"think\", \"time\", \"victim\", \"violence\", \"violent\", \"want\", \"weapon\", \"yes\"]}, \"R\": 30, \"lambda.step\": 0.01, \"plot.opts\": {\"xlab\": \"PC1\", \"ylab\": \"PC2\"}, \"topic.order\": [2, 1]};\n",
       "\n",
       "function LDAvis_load_lib(url, callback){\n",
       "  var s = document.createElement('script');\n",
       "  s.src = url;\n",
       "  s.async = true;\n",
       "  s.onreadystatechange = s.onload = callback;\n",
       "  s.onerror = function(){console.warn(\"failed to load library \" + url);};\n",
       "  document.getElementsByTagName(\"head\")[0].appendChild(s);\n",
       "}\n",
       "\n",
       "if(typeof(LDAvis) !== \"undefined\"){\n",
       "   // already loaded: just create the visualization\n",
       "   !function(LDAvis){\n",
       "       new LDAvis(\"#\" + \"ldavis_el453821406266534664004219218196\", ldavis_el453821406266534664004219218196_data);\n",
       "   }(LDAvis);\n",
       "}else if(typeof define === \"function\" && define.amd){\n",
       "   // require.js is available: use it to load d3/LDAvis\n",
       "   require.config({paths: {d3: \"https://d3js.org/d3.v5\"}});\n",
       "   require([\"d3\"], function(d3){\n",
       "      window.d3 = d3;\n",
       "      LDAvis_load_lib(\"https://cdn.jsdelivr.net/gh/bmabey/pyLDAvis/pyLDAvis/js/ldavis.v3.0.0.js\", function(){\n",
       "        new LDAvis(\"#\" + \"ldavis_el453821406266534664004219218196\", ldavis_el453821406266534664004219218196_data);\n",
       "      });\n",
       "    });\n",
       "}else{\n",
       "    // require.js not available: dynamically load d3 & LDAvis\n",
       "    LDAvis_load_lib(\"https://d3js.org/d3.v5.js\", function(){\n",
       "         LDAvis_load_lib(\"https://cdn.jsdelivr.net/gh/bmabey/pyLDAvis/pyLDAvis/js/ldavis.v3.0.0.js\", function(){\n",
       "                 new LDAvis(\"#\" + \"ldavis_el453821406266534664004219218196\", ldavis_el453821406266534664004219218196_data);\n",
       "            })\n",
       "         });\n",
       "}\n",
       "</script>"
      ],
      "text/plain": [
       "<IPython.core.display.HTML object>"
      ]
     },
     "execution_count": 33,
     "metadata": {},
     "output_type": "execute_result"
    }
   ],
   "source": [
    "from IPython.display import HTML\n",
    "HTML(filename=\"/Users/Justin/Desktop/ADA_project/LDAvis.html\")"
   ]
  },
  {
   "cell_type": "code",
   "execution_count": null,
   "id": "4d9e810d",
   "metadata": {},
   "outputs": [],
   "source": []
  },
  {
   "cell_type": "code",
   "execution_count": null,
   "id": "18ad6684",
   "metadata": {},
   "outputs": [],
   "source": []
  }
 ],
 "metadata": {
  "kernelspec": {
   "display_name": "Python 3 (ipykernel)",
   "language": "python",
   "name": "python3"
  },
  "language_info": {
   "codemirror_mode": {
    "name": "ipython",
    "version": 3
   },
   "file_extension": ".py",
   "mimetype": "text/x-python",
   "name": "python",
   "nbconvert_exporter": "python",
   "pygments_lexer": "ipython3",
   "version": "3.8.12"
  }
 },
 "nbformat": 4,
 "nbformat_minor": 5
}
